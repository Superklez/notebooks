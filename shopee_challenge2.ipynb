{
 "cells": [
  {
   "cell_type": "code",
   "execution_count": null,
   "metadata": {
    "id": "8N_KdB89mr6a"
   },
   "outputs": [],
   "source": [
    "import os\n",
    "import pickle\n",
    "import random\n",
    "\n",
    "import numpy as np\n",
    "import pandas as pd\n",
    "import matplotlib.pyplot as plt\n",
    "\n",
    "from sklearn.naive_bayes import MultinomialNB\n",
    "from sklearn.utils import shuffle\n",
    "from sklearn.model_selection import train_test_split\n",
    "from sklearn.feature_extraction.text import CountVectorizer\n",
    "\n",
    "from time import time\n",
    "\n",
    "#from google.colab import drive\n",
    "#drive.mount('/content/drive')"
   ]
  },
  {
   "cell_type": "code",
   "execution_count": null,
   "metadata": {
    "colab": {
     "base_uri": "https://localhost:8080/",
     "height": 206
    },
    "id": "dI-8VGYoYmve",
    "outputId": "4968ba22-962b-43ce-c70f-7661597314bf"
   },
   "outputs": [
    {
     "data": {
      "text/html": [
       "<div>\n",
       "<style scoped>\n",
       "    .dataframe tbody tr th:only-of-type {\n",
       "        vertical-align: middle;\n",
       "    }\n",
       "\n",
       "    .dataframe tbody tr th {\n",
       "        vertical-align: top;\n",
       "    }\n",
       "\n",
       "    .dataframe thead th {\n",
       "        text-align: right;\n",
       "    }\n",
       "</style>\n",
       "<table border=\"1\" class=\"dataframe\">\n",
       "  <thead>\n",
       "    <tr style=\"text-align: right;\">\n",
       "      <th></th>\n",
       "      <th>id</th>\n",
       "      <th>raw_address</th>\n",
       "      <th>POI</th>\n",
       "      <th>street</th>\n",
       "    </tr>\n",
       "  </thead>\n",
       "  <tbody>\n",
       "    <tr>\n",
       "      <th>0</th>\n",
       "      <td>0</td>\n",
       "      <td>jl kapuk timur delta sili iii lippo cika 11 a ...</td>\n",
       "      <td></td>\n",
       "      <td>jl kapuk timur delta sili iii lippo cika</td>\n",
       "    </tr>\n",
       "    <tr>\n",
       "      <th>1</th>\n",
       "      <td>1</td>\n",
       "      <td>aye, jati sampurna</td>\n",
       "      <td></td>\n",
       "      <td></td>\n",
       "    </tr>\n",
       "    <tr>\n",
       "      <th>2</th>\n",
       "      <td>2</td>\n",
       "      <td>setu siung 119 rt 5 1 13880 cipayung</td>\n",
       "      <td></td>\n",
       "      <td>siung</td>\n",
       "    </tr>\n",
       "    <tr>\n",
       "      <th>3</th>\n",
       "      <td>3</td>\n",
       "      <td>toko dita, kertosono</td>\n",
       "      <td>toko dita</td>\n",
       "      <td></td>\n",
       "    </tr>\n",
       "    <tr>\n",
       "      <th>4</th>\n",
       "      <td>4</td>\n",
       "      <td>jl. orde baru</td>\n",
       "      <td></td>\n",
       "      <td>jl. orde baru</td>\n",
       "    </tr>\n",
       "  </tbody>\n",
       "</table>\n",
       "</div>"
      ],
      "text/plain": [
       "   id  ...                                    street\n",
       "0   0  ...  jl kapuk timur delta sili iii lippo cika\n",
       "1   1  ...                                          \n",
       "2   2  ...                                     siung\n",
       "3   3  ...                                          \n",
       "4   4  ...                             jl. orde baru\n",
       "\n",
       "[5 rows x 4 columns]"
      ]
     },
     "execution_count": 2,
     "metadata": {
      "tags": []
     },
     "output_type": "execute_result"
    }
   ],
   "source": [
    "train_df = pd.read_csv('train.csv')\n",
    "train_df['POI'] = train_df['POI/street'].apply(lambda row: row.split('/')[0])\n",
    "train_df['street'] = train_df['POI/street'].apply(lambda row: row.split('/')[1])\n",
    "del train_df['POI/street']\n",
    "train_df.head()"
   ]
  },
  {
   "cell_type": "code",
   "execution_count": null,
   "metadata": {
    "colab": {
     "base_uri": "https://localhost:8080/",
     "height": 206
    },
    "id": "jrFDG7c4Y3uP",
    "outputId": "ee3a31ca-9f01-4ff4-8969-8ad08cfcc640"
   },
   "outputs": [
    {
     "data": {
      "text/html": [
       "<div>\n",
       "<style scoped>\n",
       "    .dataframe tbody tr th:only-of-type {\n",
       "        vertical-align: middle;\n",
       "    }\n",
       "\n",
       "    .dataframe tbody tr th {\n",
       "        vertical-align: top;\n",
       "    }\n",
       "\n",
       "    .dataframe thead th {\n",
       "        text-align: right;\n",
       "    }\n",
       "</style>\n",
       "<table border=\"1\" class=\"dataframe\">\n",
       "  <thead>\n",
       "    <tr style=\"text-align: right;\">\n",
       "      <th></th>\n",
       "      <th>id</th>\n",
       "      <th>raw_address</th>\n",
       "    </tr>\n",
       "  </thead>\n",
       "  <tbody>\n",
       "    <tr>\n",
       "      <th>0</th>\n",
       "      <td>0</td>\n",
       "      <td>s. par 53 sidanegara 4 cilacap tengah</td>\n",
       "    </tr>\n",
       "    <tr>\n",
       "      <th>1</th>\n",
       "      <td>1</td>\n",
       "      <td>angg per, baloi indah kel. lubuk baja</td>\n",
       "    </tr>\n",
       "    <tr>\n",
       "      <th>2</th>\n",
       "      <td>2</td>\n",
       "      <td>asma laun, mand imog,</td>\n",
       "    </tr>\n",
       "    <tr>\n",
       "      <th>3</th>\n",
       "      <td>3</td>\n",
       "      <td>ud agung rej, raya nga sri wedari karanganyar</td>\n",
       "    </tr>\n",
       "    <tr>\n",
       "      <th>4</th>\n",
       "      <td>4</td>\n",
       "      <td>cut mutia, 35 baiturrahman</td>\n",
       "    </tr>\n",
       "  </tbody>\n",
       "</table>\n",
       "</div>"
      ],
      "text/plain": [
       "   id                                    raw_address\n",
       "0   0          s. par 53 sidanegara 4 cilacap tengah\n",
       "1   1          angg per, baloi indah kel. lubuk baja\n",
       "2   2                          asma laun, mand imog,\n",
       "3   3  ud agung rej, raya nga sri wedari karanganyar\n",
       "4   4                     cut mutia, 35 baiturrahman"
      ]
     },
     "execution_count": 3,
     "metadata": {
      "tags": []
     },
     "output_type": "execute_result"
    }
   ],
   "source": [
    "test_df = pd.read_csv('test.csv')\n",
    "test_df.head()"
   ]
  },
  {
   "cell_type": "code",
   "execution_count": null,
   "metadata": {
    "colab": {
     "base_uri": "https://localhost:8080/"
    },
    "id": "tniMyP8cmtWU",
    "outputId": "de5874ac-c0fb-4815-edd2-b52aeb736fdf"
   },
   "outputs": [
    {
     "name": "stdout",
     "output_type": "stream",
     "text": [
      "X shape: (300000, 81117)\n"
     ]
    }
   ],
   "source": [
    "X = train_df['raw_address']\n",
    "y_train_poi = train_df['POI']\n",
    "y_train_street = train_df['street']\n",
    "\n",
    "cv = CountVectorizer()\n",
    "X_train = cv.fit_transform(X)\n",
    "print(f'X shape: {X_train.shape}')"
   ]
  },
  {
   "cell_type": "code",
   "execution_count": null,
   "metadata": {
    "colab": {
     "base_uri": "https://localhost:8080/"
    },
    "id": "vHC2-gRAxeww",
    "outputId": "b4ffc1b3-b456-4396-c21f-e81be3e4f586"
   },
   "outputs": [
    {
     "name": "stdout",
     "output_type": "stream",
     "text": [
      "Epoch: 1/20\n",
      "Epoch: 2/20\n",
      "Epoch: 3/20\n",
      "Epoch: 4/20\n",
      "Epoch: 5/20\n",
      "Epoch: 6/20\n",
      "Epoch: 7/20\n",
      "Epoch: 8/20\n",
      "Epoch: 9/20\n",
      "Epoch: 10/20\n",
      "Epoch: 11/20\n",
      "Epoch: 12/20\n",
      "Epoch: 13/20\n",
      "Epoch: 14/20\n",
      "Epoch: 15/20\n",
      "Epoch: 16/20\n",
      "Epoch: 17/20\n",
      "Epoch: 18/20\n",
      "Epoch: 19/20\n",
      "Epoch: 20/20\n",
      "Training complete!\n",
      "Time elapsed: 423.37 minutes.\n",
      "\n",
      "Saving complete!\n"
     ]
    }
   ],
   "source": [
    "start = time()\n",
    "\n",
    "total = len(train_df)\n",
    "size = 3000\n",
    "batch = list(range(0, total-size+1, size))\n",
    "n_iter = 20\n",
    "\n",
    "mnb_poi = MultinomialNB(alpha=1, fit_prior=True)\n",
    "mnb_street = MultinomialNB(alpha=1, fit_prior=True)\n",
    "\n",
    "for n in range(n_iter):\n",
    "    print(f'Epoch: {n+1}/{n_iter}')\n",
    "    X, y_poi, y_street = shuffle(X_train, y_train_poi, y_train_street, random_state=n)\n",
    "    if n != 0:\n",
    "        for b in range(0, len(batch)):\n",
    "            mnb_poi.partial_fit(X[batch[b]:batch[b]+size], y_poi[batch[b]:batch[b]+size])\n",
    "            mnb_street.partial_fit(X[batch[b]:batch[b]+size], y_street[batch[b]:batch[b]+size])\n",
    "    elif n == 0:\n",
    "        mnb_poi.fit(X[batch[0]:batch[0]+size], y_poi[batch[0]:batch[0]+size])\n",
    "        mnb_street.fit(X[batch[0]:batch[0]+size], y_street[batch[0]:batch[0]+size])\n",
    "        for b in range(1, len(batch)):\n",
    "            mnb_poi.partial_fit(X[batch[b]:batch[b]+size], y_poi[batch[b]:batch[b]+size])\n",
    "            mnb_street.partial_fit(X[batch[b]:batch[b]+size], y_street[batch[b]:batch[b]+size])\n",
    "\n",
    "print('Training complete!')\n",
    "print(f'Time elapsed: {round((time() - start)/60, 2)} minutes.')\n",
    "print()\n",
    "\n",
    "poi_pred = mnb_poi.predict(cv.transform(test_df['raw_address']))\n",
    "street_pred = mnb_street.predict(cv.transform(test_df['raw_address']))\n",
    "\n",
    "answer_df = pd.DataFrame()\n",
    "answer_df['id'] = test_df['id']\n",
    "answer_df['POI'] = poi_pred\n",
    "answer_df['street'] = street_pred\n",
    "answer_df['POI/street'] = answer_df['POI'] + '/' + answer_df['street']\n",
    "answer_df = answer_df[['id', 'POI/street']]\n",
    "answer_df.head()\n",
    "answer_df.to_csv('submit08.csv', header=True, index=False)\n",
    "print('Saving complete!')"
   ]
  }
 ],
 "metadata": {
  "colab": {
   "name": "SHOPEE_02 MNB.ipynb",
   "provenance": []
  },
  "kernelspec": {
   "display_name": "Python 3",
   "language": "python",
   "name": "python3"
  },
  "language_info": {
   "codemirror_mode": {
    "name": "ipython",
    "version": 3
   },
   "file_extension": ".py",
   "mimetype": "text/x-python",
   "name": "python",
   "nbconvert_exporter": "python",
   "pygments_lexer": "ipython3",
   "version": "3.8.10"
  }
 },
 "nbformat": 4,
 "nbformat_minor": 1
}
