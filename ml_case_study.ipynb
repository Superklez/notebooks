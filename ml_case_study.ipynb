{
 "cells": [
  {
   "cell_type": "markdown",
   "metadata": {
    "id": "4OQ2i58i3flU"
   },
   "source": [
    "# Machine Learning Case Study\n",
    "\n",
    "*You haven't been to America if you haven't been to New York.*\n",
    "\n",
    "New York is known for its world-famous sights, drawing millions of tourists into the city every year. Considering Times Square alone, we could see from online articles and videos that it is packed with people almost always. Because of this, there is a high demand for transportation services to get around the city. Some people would prefer to take the subway for affordability, whereas others would prefer taxis for convenience and comfort. The large number of taxi rides taken every day could give us an insight into traffic patterns that could lead to longer trip durations and peak hours that could influence trip fare. Insights drawn from this machine learning case study could help commuters decide on the optimal time to take a taxi. Furthermore, the insights could also help drivers determine the peak hours to maximize profits.\n",
    "\n",
    "The dataset used in this case study is the [New York City Taxi Fare Prediction](https://www.kaggle.com/c/new-york-city-taxi-fare-prediction/) dataset. In this machine learning case study, we will look into how the taxi fare can be predicted by extracted features. We will start by considering distance and time features when predicting the taxi fare, then we will proceed to consider only the time features when predicting taxi fare."
   ]
  },
  {
   "cell_type": "markdown",
   "metadata": {
    "id": "44GO1J5d3iTb"
   },
   "source": [
    "# Get Dataset"
   ]
  },
  {
   "cell_type": "markdown",
   "metadata": {
    "id": "gXelefTF3iQ8"
   },
   "source": [
    "## Load Necessary Libraries"
   ]
  },
  {
   "cell_type": "code",
   "execution_count": null,
   "metadata": {
    "colab": {
     "base_uri": "https://localhost:8080/"
    },
    "id": "wBzgaMpbFPHw",
    "outputId": "a2795340-a214-4d3c-9889-e30e211d76be"
   },
   "outputs": [
    {
     "name": "stdout",
     "output_type": "stream",
     "text": [
      "Mounted at /content/drive\n"
     ]
    }
   ],
   "source": [
    "import numpy as np\n",
    "import pandas as pd\n",
    "import matplotlib.pyplot as plt\n",
    "import seaborn as sns\n",
    "sns.set_style('whitegrid')\n",
    "\n",
    "from sklearn.ensemble import RandomForestRegressor\n",
    "from sklearn.model_selection import train_test_split\n",
    "from sklearn.model_selection import GridSearchCV\n",
    "from sklearn.metrics import mean_squared_error\n",
    "from sklearn.utils import shuffle\n",
    "from sklearn.pipeline import Pipeline\n",
    "from sklearn.preprocessing import MinMaxScaler\n",
    "from sklearn.base import BaseEstimator, TransformerMixin\n",
    "from sklearn.compose import ColumnTransformer\n",
    "\n",
    "from time import time\n",
    "\n",
    "from google.colab import drive \n",
    "drive.mount('/content/drive')"
   ]
  },
  {
   "cell_type": "code",
   "execution_count": null,
   "metadata": {
    "colab": {
     "base_uri": "https://localhost:8080/"
    },
    "id": "qWB8KoRnzjwi",
    "outputId": "207f158f-cab7-477d-cbab-0768f6685e41"
   },
   "outputs": [
    {
     "name": "stdout",
     "output_type": "stream",
     "text": [
      "/content/drive/MyDrive/data/kaggle/taxi\n"
     ]
    }
   ],
   "source": [
    "%cd /content/drive/MyDrive/data/kaggle/taxi/"
   ]
  },
  {
   "cell_type": "markdown",
   "metadata": {
    "id": "iu3MszIi3oMo"
   },
   "source": [
    "## Load Dataset\n",
    "\n",
    "This is a large dataset consisting of 26173536 samples. For our case, we will only deal with the first 1500000 samples, thus we are only utilizing approximately 5.73% of the entire dataset. The number of samples to be used in this case study was determined through trial-and-error by considering the memory usage and runtime of the functions and models laid out in this notebook."
   ]
  },
  {
   "cell_type": "code",
   "execution_count": null,
   "metadata": {
    "colab": {
     "base_uri": "https://localhost:8080/",
     "height": 206
    },
    "id": "T9PvHs13zlN0",
    "outputId": "d6af43a4-fb50-4d6d-f2b7-40ac0222fbaa"
   },
   "outputs": [
    {
     "data": {
      "text/html": [
       "<div>\n",
       "<style scoped>\n",
       "    .dataframe tbody tr th:only-of-type {\n",
       "        vertical-align: middle;\n",
       "    }\n",
       "\n",
       "    .dataframe tbody tr th {\n",
       "        vertical-align: top;\n",
       "    }\n",
       "\n",
       "    .dataframe thead th {\n",
       "        text-align: right;\n",
       "    }\n",
       "</style>\n",
       "<table border=\"1\" class=\"dataframe\">\n",
       "  <thead>\n",
       "    <tr style=\"text-align: right;\">\n",
       "      <th></th>\n",
       "      <th>key</th>\n",
       "      <th>fare_amount</th>\n",
       "      <th>pickup_datetime</th>\n",
       "      <th>pickup_longitude</th>\n",
       "      <th>pickup_latitude</th>\n",
       "      <th>dropoff_longitude</th>\n",
       "      <th>dropoff_latitude</th>\n",
       "      <th>passenger_count</th>\n",
       "    </tr>\n",
       "  </thead>\n",
       "  <tbody>\n",
       "    <tr>\n",
       "      <th>0</th>\n",
       "      <td>2009-06-15 17:26:21.0000001</td>\n",
       "      <td>4.5</td>\n",
       "      <td>2009-06-15 17:26:21 UTC</td>\n",
       "      <td>-73.844311</td>\n",
       "      <td>40.721319</td>\n",
       "      <td>-73.841610</td>\n",
       "      <td>40.712278</td>\n",
       "      <td>1</td>\n",
       "    </tr>\n",
       "    <tr>\n",
       "      <th>1</th>\n",
       "      <td>2010-01-05 16:52:16.0000002</td>\n",
       "      <td>16.9</td>\n",
       "      <td>2010-01-05 16:52:16 UTC</td>\n",
       "      <td>-74.016048</td>\n",
       "      <td>40.711303</td>\n",
       "      <td>-73.979268</td>\n",
       "      <td>40.782004</td>\n",
       "      <td>1</td>\n",
       "    </tr>\n",
       "    <tr>\n",
       "      <th>2</th>\n",
       "      <td>2011-08-18 00:35:00.00000049</td>\n",
       "      <td>5.7</td>\n",
       "      <td>2011-08-18 00:35:00 UTC</td>\n",
       "      <td>-73.982738</td>\n",
       "      <td>40.761270</td>\n",
       "      <td>-73.991242</td>\n",
       "      <td>40.750562</td>\n",
       "      <td>2</td>\n",
       "    </tr>\n",
       "    <tr>\n",
       "      <th>3</th>\n",
       "      <td>2012-04-21 04:30:42.0000001</td>\n",
       "      <td>7.7</td>\n",
       "      <td>2012-04-21 04:30:42 UTC</td>\n",
       "      <td>-73.987130</td>\n",
       "      <td>40.733143</td>\n",
       "      <td>-73.991567</td>\n",
       "      <td>40.758092</td>\n",
       "      <td>1</td>\n",
       "    </tr>\n",
       "    <tr>\n",
       "      <th>4</th>\n",
       "      <td>2010-03-09 07:51:00.000000135</td>\n",
       "      <td>5.3</td>\n",
       "      <td>2010-03-09 07:51:00 UTC</td>\n",
       "      <td>-73.968095</td>\n",
       "      <td>40.768008</td>\n",
       "      <td>-73.956655</td>\n",
       "      <td>40.783762</td>\n",
       "      <td>1</td>\n",
       "    </tr>\n",
       "  </tbody>\n",
       "</table>\n",
       "</div>"
      ],
      "text/plain": [
       "                             key  ...  passenger_count\n",
       "0    2009-06-15 17:26:21.0000001  ...                1\n",
       "1    2010-01-05 16:52:16.0000002  ...                1\n",
       "2   2011-08-18 00:35:00.00000049  ...                2\n",
       "3    2012-04-21 04:30:42.0000001  ...                1\n",
       "4  2010-03-09 07:51:00.000000135  ...                1\n",
       "\n",
       "[5 rows x 8 columns]"
      ]
     },
     "execution_count": 3,
     "metadata": {
      "tags": []
     },
     "output_type": "execute_result"
    }
   ],
   "source": [
    "df = pd.read_csv('train.csv', nrows=1500000)\n",
    "init_len = len(df)\n",
    "df.head()"
   ]
  },
  {
   "cell_type": "markdown",
   "metadata": {
    "id": "MPPp3iLe3q64"
   },
   "source": [
    "Next, we want to get a concise summary of the dataset using `pandas.DataFrame.info`."
   ]
  },
  {
   "cell_type": "code",
   "execution_count": null,
   "metadata": {
    "colab": {
     "base_uri": "https://localhost:8080/"
    },
    "id": "zjaXB1wLzlJ9",
    "outputId": "e9d08bcb-c68d-41e6-a92f-6587cadf86cd"
   },
   "outputs": [
    {
     "name": "stdout",
     "output_type": "stream",
     "text": [
      "<class 'pandas.core.frame.DataFrame'>\n",
      "RangeIndex: 1500000 entries, 0 to 1499999\n",
      "Data columns (total 8 columns):\n",
      " #   Column             Non-Null Count    Dtype  \n",
      "---  ------             --------------    -----  \n",
      " 0   key                1500000 non-null  object \n",
      " 1   fare_amount        1500000 non-null  float64\n",
      " 2   pickup_datetime    1500000 non-null  object \n",
      " 3   pickup_longitude   1500000 non-null  float64\n",
      " 4   pickup_latitude    1500000 non-null  float64\n",
      " 5   dropoff_longitude  1499988 non-null  float64\n",
      " 6   dropoff_latitude   1499988 non-null  float64\n",
      " 7   passenger_count    1500000 non-null  int64  \n",
      "dtypes: float64(5), int64(1), object(2)\n",
      "memory usage: 91.6+ MB\n"
     ]
    }
   ],
   "source": [
    "df.info()"
   ]
  },
  {
   "cell_type": "markdown",
   "metadata": {
    "id": "1Vn-ZxRo3syj"
   },
   "source": [
    "Later in this notebook, we will convert the `pickupdate_datetime` column to a `datetime` object using `pandas.to_datetime`, and we could also extract the distance traveled using the pickup and dropoff longitudes and latitudes. Moving on, we would also like to determine how many missing values are present in the dataset."
   ]
  },
  {
   "cell_type": "code",
   "execution_count": null,
   "metadata": {
    "colab": {
     "base_uri": "https://localhost:8080/"
    },
    "id": "UErIKjAhzlHM",
    "outputId": "2f4fdcad-2098-4caa-b20d-6e6c0def21a4"
   },
   "outputs": [
    {
     "data": {
      "text/plain": [
       "key                   0\n",
       "fare_amount           0\n",
       "pickup_datetime       0\n",
       "pickup_longitude      0\n",
       "pickup_latitude       0\n",
       "dropoff_longitude    12\n",
       "dropoff_latitude     12\n",
       "passenger_count       0\n",
       "dtype: int64"
      ]
     },
     "execution_count": 5,
     "metadata": {
      "tags": []
     },
     "output_type": "execute_result"
    }
   ],
   "source": [
    "df.isna().sum()"
   ]
  },
  {
   "cell_type": "markdown",
   "metadata": {
    "id": "tt8u9qIv3usJ"
   },
   "source": [
    "We then drop the rows with missing values and also drop duplicate rows."
   ]
  },
  {
   "cell_type": "code",
   "execution_count": null,
   "metadata": {
    "colab": {
     "base_uri": "https://localhost:8080/"
    },
    "id": "bLQbxvxCzlFU",
    "outputId": "bfc90286-8d71-4160-a5bd-0b8e43717bcd"
   },
   "outputs": [
    {
     "name": "stdout",
     "output_type": "stream",
     "text": [
      "Rows dropped: 14\n"
     ]
    }
   ],
   "source": [
    "df = df.drop(['key'], axis=1)\n",
    "df = df.drop_duplicates()\n",
    "df.dropna(inplace=True)\n",
    "drop_len = len(df)\n",
    "print(f'Rows dropped: {init_len-drop_len}')"
   ]
  },
  {
   "cell_type": "markdown",
   "metadata": {
    "id": "mYkbhKMv3w3j"
   },
   "source": [
    "# EDA\n",
    "\n",
    "Given how large the dataset is, we could expect possible outliers in the dataset's distribution. To begin with, let us see the distribution of the `fare_amount` column (target column)."
   ]
  },
  {
   "cell_type": "code",
   "execution_count": null,
   "metadata": {
    "colab": {
     "base_uri": "https://localhost:8080/",
     "height": 331
    },
    "id": "IoZj85-ozlCL",
    "outputId": "afc4315e-ea7d-4f68-fe16-c2c0f1b7d1a3"
   },
   "outputs": [
    {
     "data": {
      "text/html": [
       "<div>\n",
       "<style scoped>\n",
       "    .dataframe tbody tr th:only-of-type {\n",
       "        vertical-align: middle;\n",
       "    }\n",
       "\n",
       "    .dataframe tbody tr th {\n",
       "        vertical-align: top;\n",
       "    }\n",
       "\n",
       "    .dataframe thead th {\n",
       "        text-align: right;\n",
       "    }\n",
       "</style>\n",
       "<table border=\"1\" class=\"dataframe\">\n",
       "  <thead>\n",
       "    <tr style=\"text-align: right;\">\n",
       "      <th></th>\n",
       "      <th>fare_amount</th>\n",
       "    </tr>\n",
       "  </thead>\n",
       "  <tbody>\n",
       "    <tr>\n",
       "      <th>count</th>\n",
       "      <td>1.499986e+06</td>\n",
       "    </tr>\n",
       "    <tr>\n",
       "      <th>mean</th>\n",
       "      <td>1.134972e+01</td>\n",
       "    </tr>\n",
       "    <tr>\n",
       "      <th>std</th>\n",
       "      <td>9.878693e+00</td>\n",
       "    </tr>\n",
       "    <tr>\n",
       "      <th>min</th>\n",
       "      <td>-6.200000e+01</td>\n",
       "    </tr>\n",
       "    <tr>\n",
       "      <th>50%</th>\n",
       "      <td>8.500000e+00</td>\n",
       "    </tr>\n",
       "    <tr>\n",
       "      <th>75%</th>\n",
       "      <td>1.250000e+01</td>\n",
       "    </tr>\n",
       "    <tr>\n",
       "      <th>90%</th>\n",
       "      <td>2.050000e+01</td>\n",
       "    </tr>\n",
       "    <tr>\n",
       "      <th>95%</th>\n",
       "      <td>3.033000e+01</td>\n",
       "    </tr>\n",
       "    <tr>\n",
       "      <th>max</th>\n",
       "      <td>1.273310e+03</td>\n",
       "    </tr>\n",
       "  </tbody>\n",
       "</table>\n",
       "</div>"
      ],
      "text/plain": [
       "        fare_amount\n",
       "count  1.499986e+06\n",
       "mean   1.134972e+01\n",
       "std    9.878693e+00\n",
       "min   -6.200000e+01\n",
       "50%    8.500000e+00\n",
       "75%    1.250000e+01\n",
       "90%    2.050000e+01\n",
       "95%    3.033000e+01\n",
       "max    1.273310e+03"
      ]
     },
     "execution_count": 7,
     "metadata": {
      "tags": []
     },
     "output_type": "execute_result"
    }
   ],
   "source": [
    "df[['fare_amount']].describe(percentiles=[.50, .75, .90, .95])"
   ]
  },
  {
   "cell_type": "code",
   "execution_count": null,
   "metadata": {
    "colab": {
     "base_uri": "https://localhost:8080/",
     "height": 346
    },
    "id": "EGCrVtYvzlAK",
    "outputId": "c345cccf-5dd0-4559-86b5-20362b07f472"
   },
   "outputs": [
    {
     "data": {
      "image/png": "[encoded data removed]",
      "text/plain": [
       "<Figure size 720x360 with 1 Axes>"
      ]
     },
     "metadata": {
      "needs_background": "light",
      "tags": []
     },
     "output_type": "display_data"
    }
   ],
   "source": [
    "plt.figure(figsize=(10, 5))\n",
    "sns.histplot(df['fare_amount'], bins=50, kde=True);"
   ]
  },
  {
   "cell_type": "markdown",
   "metadata": {
    "id": "YEi3mB-e35zf"
   },
   "source": [
    "We see that the 95th-percentile of the target distribution (`fare_amount`) is \\$30.3. Moreover, it is quite clear that there are outliers that affect the distribution of the target column greatly. To avoid outliers from affecting model training, we will only select rows in the dataset whose `fare_amount` is between \\$0 and \\$60 (this range was arbitrarily chosen through trial-and-error)\n",
    ".\n",
    "\n",
    "**Note:** This greatly affects the ability of our model to generalize to unseen data, especially data belonging to a different distribution. However, for this case study, we shouldn't concern ourselves too much on this aspect and just focus on training our model on a more balanced data distribution."
   ]
  },
  {
   "cell_type": "code",
   "execution_count": null,
   "metadata": {
    "colab": {
     "base_uri": "https://localhost:8080/",
     "height": 335
    },
    "id": "0Rq7zDiEzk-N",
    "outputId": "3839e42a-744e-4eca-9a49-9f2d18c0231c"
   },
   "outputs": [
    {
     "data": {
      "image/png": "[encoded data removed]",
      "text/plain": [
       "<Figure size 720x360 with 1 Axes>"
      ]
     },
     "metadata": {
      "needs_background": "light",
      "tags": []
     },
     "output_type": "display_data"
    }
   ],
   "source": [
    "df = df[df['fare_amount'].between(0, 60)]\n",
    "plt.figure(figsize=(10, 5))\n",
    "sns.histplot(df['fare_amount'], bins=50, kde=True);"
   ]
  },
  {
   "cell_type": "markdown",
   "metadata": {
    "id": "Vw_XGoVN39zq"
   },
   "source": [
    "We would also like to look at the distributions of the pickup and dropoff longitudes and latitudes. It's possible that outliers are present, and thus we would like to remove those outliers to not affect model training."
   ]
  },
  {
   "cell_type": "code",
   "execution_count": null,
   "metadata": {
    "colab": {
     "base_uri": "https://localhost:8080/",
     "height": 331
    },
    "id": "m9Q81ZU_zk7h",
    "outputId": "ea355c60-7d53-446e-a2eb-4ee63427b138"
   },
   "outputs": [
    {
     "data": {
      "text/html": [
       "<div>\n",
       "<style scoped>\n",
       "    .dataframe tbody tr th:only-of-type {\n",
       "        vertical-align: middle;\n",
       "    }\n",
       "\n",
       "    .dataframe tbody tr th {\n",
       "        vertical-align: top;\n",
       "    }\n",
       "\n",
       "    .dataframe thead th {\n",
       "        text-align: right;\n",
       "    }\n",
       "</style>\n",
       "<table border=\"1\" class=\"dataframe\">\n",
       "  <thead>\n",
       "    <tr style=\"text-align: right;\">\n",
       "      <th></th>\n",
       "      <th>pickup_longitude</th>\n",
       "      <th>pickup_latitude</th>\n",
       "      <th>dropoff_longitude</th>\n",
       "      <th>dropoff_latitude</th>\n",
       "    </tr>\n",
       "  </thead>\n",
       "  <tbody>\n",
       "    <tr>\n",
       "      <th>count</th>\n",
       "      <td>1.495886e+06</td>\n",
       "      <td>1.495886e+06</td>\n",
       "      <td>1.495886e+06</td>\n",
       "      <td>1.495886e+06</td>\n",
       "    </tr>\n",
       "    <tr>\n",
       "      <th>mean</th>\n",
       "      <td>-7.253704e+01</td>\n",
       "      <td>3.993417e+01</td>\n",
       "      <td>-7.253698e+01</td>\n",
       "      <td>3.993423e+01</td>\n",
       "    </tr>\n",
       "    <tr>\n",
       "      <th>std</th>\n",
       "      <td>1.264994e+01</td>\n",
       "      <td>8.059298e+00</td>\n",
       "      <td>1.221820e+01</td>\n",
       "      <td>1.000131e+01</td>\n",
       "    </tr>\n",
       "    <tr>\n",
       "      <th>min</th>\n",
       "      <td>-3.377681e+03</td>\n",
       "      <td>-3.458665e+03</td>\n",
       "      <td>-3.383297e+03</td>\n",
       "      <td>-3.461541e+03</td>\n",
       "    </tr>\n",
       "    <tr>\n",
       "      <th>50%</th>\n",
       "      <td>-7.398181e+01</td>\n",
       "      <td>4.075266e+01</td>\n",
       "      <td>-7.398013e+01</td>\n",
       "      <td>4.075319e+01</td>\n",
       "    </tr>\n",
       "    <tr>\n",
       "      <th>75%</th>\n",
       "      <td>-7.396715e+01</td>\n",
       "      <td>4.076712e+01</td>\n",
       "      <td>-7.396370e+01</td>\n",
       "      <td>4.076811e+01</td>\n",
       "    </tr>\n",
       "    <tr>\n",
       "      <th>90%</th>\n",
       "      <td>-7.395091e+01</td>\n",
       "      <td>4.077978e+01</td>\n",
       "      <td>-7.394566e+01</td>\n",
       "      <td>4.078276e+01</td>\n",
       "    </tr>\n",
       "    <tr>\n",
       "      <th>95%</th>\n",
       "      <td>-7.387279e+01</td>\n",
       "      <td>4.078773e+01</td>\n",
       "      <td>-7.388108e+01</td>\n",
       "      <td>4.079374e+01</td>\n",
       "    </tr>\n",
       "    <tr>\n",
       "      <th>max</th>\n",
       "      <td>2.522271e+03</td>\n",
       "      <td>2.621628e+03</td>\n",
       "      <td>2.842474e+03</td>\n",
       "      <td>3.345917e+03</td>\n",
       "    </tr>\n",
       "  </tbody>\n",
       "</table>\n",
       "</div>"
      ],
      "text/plain": [
       "       pickup_longitude  pickup_latitude  dropoff_longitude  dropoff_latitude\n",
       "count      1.495886e+06     1.495886e+06       1.495886e+06      1.495886e+06\n",
       "mean      -7.253704e+01     3.993417e+01      -7.253698e+01      3.993423e+01\n",
       "std        1.264994e+01     8.059298e+00       1.221820e+01      1.000131e+01\n",
       "min       -3.377681e+03    -3.458665e+03      -3.383297e+03     -3.461541e+03\n",
       "50%       -7.398181e+01     4.075266e+01      -7.398013e+01      4.075319e+01\n",
       "75%       -7.396715e+01     4.076712e+01      -7.396370e+01      4.076811e+01\n",
       "90%       -7.395091e+01     4.077978e+01      -7.394566e+01      4.078276e+01\n",
       "95%       -7.387279e+01     4.078773e+01      -7.388108e+01      4.079374e+01\n",
       "max        2.522271e+03     2.621628e+03       2.842474e+03      3.345917e+03"
      ]
     },
     "execution_count": 10,
     "metadata": {
      "tags": []
     },
     "output_type": "execute_result"
    }
   ],
   "source": [
    "df[['pickup_longitude', 'pickup_latitude', 'dropoff_longitude',\n",
    "    'dropoff_latitude']].describe([.50,.75,.90,.95])"
   ]
  },
  {
   "cell_type": "markdown",
   "metadata": {
    "id": "M6cE2HfM4AIW"
   },
   "source": [
    "Upon viewing the generated descriptive statistics of the pickup and dropoff longitudes and latitudes, we truncate the dataset with the selected ranges presented below (again, these ranges were abritrarily chosen through trial-and-error), removing any row not belonging to these ranges."
   ]
  },
  {
   "cell_type": "code",
   "execution_count": null,
   "metadata": {
    "colab": {
     "base_uri": "https://localhost:8080/"
    },
    "id": "Tshxmua6z3Fi",
    "outputId": "0d4cfea6-316e-4664-de25-b331151e8d0e"
   },
   "outputs": [
    {
     "name": "stdout",
     "output_type": "stream",
     "text": [
      "Rows dropped: 34693\n"
     ]
    }
   ],
   "source": [
    "df = df[df['pickup_longitude'].between(-75, -72)]\n",
    "df = df[df['pickup_latitude'].between(39, 42)]\n",
    "df = df[df['dropoff_longitude'].between(-75, -72)]\n",
    "df = df[df['dropoff_latitude'].between(39, 42)]\n",
    "print(f'Rows dropped: {drop_len-len(df)}')"
   ]
  },
  {
   "cell_type": "markdown",
   "metadata": {
    "id": "M466hEjC-Np6"
   },
   "source": [
    "Let us now see the descriptive statistics of our pruned dataset."
   ]
  },
  {
   "cell_type": "code",
   "execution_count": null,
   "metadata": {
    "colab": {
     "base_uri": "https://localhost:8080/",
     "height": 300
    },
    "id": "pAQ3H7cU-Gzy",
    "outputId": "ef9948aa-6dce-45cb-ced7-9fab1d8feba5"
   },
   "outputs": [
    {
     "data": {
      "text/html": [
       "<div>\n",
       "<style scoped>\n",
       "    .dataframe tbody tr th:only-of-type {\n",
       "        vertical-align: middle;\n",
       "    }\n",
       "\n",
       "    .dataframe tbody tr th {\n",
       "        vertical-align: top;\n",
       "    }\n",
       "\n",
       "    .dataframe thead th {\n",
       "        text-align: right;\n",
       "    }\n",
       "</style>\n",
       "<table border=\"1\" class=\"dataframe\">\n",
       "  <thead>\n",
       "    <tr style=\"text-align: right;\">\n",
       "      <th></th>\n",
       "      <th>fare_amount</th>\n",
       "      <th>pickup_longitude</th>\n",
       "      <th>pickup_latitude</th>\n",
       "      <th>dropoff_longitude</th>\n",
       "      <th>dropoff_latitude</th>\n",
       "      <th>passenger_count</th>\n",
       "    </tr>\n",
       "  </thead>\n",
       "  <tbody>\n",
       "    <tr>\n",
       "      <th>count</th>\n",
       "      <td>1.465293e+06</td>\n",
       "      <td>1.465293e+06</td>\n",
       "      <td>1.465293e+06</td>\n",
       "      <td>1.465293e+06</td>\n",
       "      <td>1.465293e+06</td>\n",
       "      <td>1.465293e+06</td>\n",
       "    </tr>\n",
       "    <tr>\n",
       "      <th>mean</th>\n",
       "      <td>1.114619e+01</td>\n",
       "      <td>-7.397524e+01</td>\n",
       "      <td>4.075094e+01</td>\n",
       "      <td>-7.397412e+01</td>\n",
       "      <td>4.075130e+01</td>\n",
       "      <td>1.684321e+00</td>\n",
       "    </tr>\n",
       "    <tr>\n",
       "      <th>std</th>\n",
       "      <td>8.886562e+00</td>\n",
       "      <td>3.873476e-02</td>\n",
       "      <td>3.198014e-02</td>\n",
       "      <td>3.687440e-02</td>\n",
       "      <td>3.486670e-02</td>\n",
       "      <td>1.307239e+00</td>\n",
       "    </tr>\n",
       "    <tr>\n",
       "      <th>min</th>\n",
       "      <td>0.000000e+00</td>\n",
       "      <td>-7.497287e+01</td>\n",
       "      <td>3.922555e+01</td>\n",
       "      <td>-7.498156e+01</td>\n",
       "      <td>3.922711e+01</td>\n",
       "      <td>0.000000e+00</td>\n",
       "    </tr>\n",
       "    <tr>\n",
       "      <th>25%</th>\n",
       "      <td>6.000000e+00</td>\n",
       "      <td>-7.399228e+01</td>\n",
       "      <td>4.073656e+01</td>\n",
       "      <td>-7.399155e+01</td>\n",
       "      <td>4.073565e+01</td>\n",
       "      <td>1.000000e+00</td>\n",
       "    </tr>\n",
       "    <tr>\n",
       "      <th>50%</th>\n",
       "      <td>8.500000e+00</td>\n",
       "      <td>-7.398210e+01</td>\n",
       "      <td>4.075336e+01</td>\n",
       "      <td>-7.398058e+01</td>\n",
       "      <td>4.075389e+01</td>\n",
       "      <td>1.000000e+00</td>\n",
       "    </tr>\n",
       "    <tr>\n",
       "      <th>75%</th>\n",
       "      <td>1.250000e+01</td>\n",
       "      <td>-7.396834e+01</td>\n",
       "      <td>4.076754e+01</td>\n",
       "      <td>-7.396535e+01</td>\n",
       "      <td>4.076840e+01</td>\n",
       "      <td>2.000000e+00</td>\n",
       "    </tr>\n",
       "    <tr>\n",
       "      <th>max</th>\n",
       "      <td>6.000000e+01</td>\n",
       "      <td>-7.270287e+01</td>\n",
       "      <td>4.180025e+01</td>\n",
       "      <td>-7.269484e+01</td>\n",
       "      <td>4.192382e+01</td>\n",
       "      <td>6.000000e+00</td>\n",
       "    </tr>\n",
       "  </tbody>\n",
       "</table>\n",
       "</div>"
      ],
      "text/plain": [
       "        fare_amount  pickup_longitude  ...  dropoff_latitude  passenger_count\n",
       "count  1.465293e+06      1.465293e+06  ...      1.465293e+06     1.465293e+06\n",
       "mean   1.114619e+01     -7.397524e+01  ...      4.075130e+01     1.684321e+00\n",
       "std    8.886562e+00      3.873476e-02  ...      3.486670e-02     1.307239e+00\n",
       "min    0.000000e+00     -7.497287e+01  ...      3.922711e+01     0.000000e+00\n",
       "25%    6.000000e+00     -7.399228e+01  ...      4.073565e+01     1.000000e+00\n",
       "50%    8.500000e+00     -7.398210e+01  ...      4.075389e+01     1.000000e+00\n",
       "75%    1.250000e+01     -7.396834e+01  ...      4.076840e+01     2.000000e+00\n",
       "max    6.000000e+01     -7.270287e+01  ...      4.192382e+01     6.000000e+00\n",
       "\n",
       "[8 rows x 6 columns]"
      ]
     },
     "execution_count": 12,
     "metadata": {
      "tags": []
     },
     "output_type": "execute_result"
    }
   ],
   "source": [
    "df.describe()"
   ]
  },
  {
   "cell_type": "markdown",
   "metadata": {
    "id": "oCLo_oau4B_A"
   },
   "source": [
    "# Feature Engineering\n",
    "\n",
    "At this point, we would like to perform feature engineering to extract features from the dataset that could boost model training and performance in predicting the target variable.\n",
    "\n",
    "To begin with, we see that we have the pickup and dropoff longitudes and latitudes. These columns could be used together to extract the distance traveled by the taxi. To extract the `distance` feature, we apply the Haversine formula. We use this formula because it determines the distance between two points on a sphere given their longitudes and latitudes. The assumption we make when using this formula is that we treat the Earth as a perfect sphere, wherein we set the radius of the sphere to be the average radius of Earth (i.e., 6371 km)."
   ]
  },
  {
   "cell_type": "code",
   "execution_count": null,
   "metadata": {
    "id": "Qoc79Zsdz3CA"
   },
   "outputs": [],
   "source": [
    "  def haversine(data, coordinates):\n",
    "    lon1, lat1, lon2, lat2 = coordinates\n",
    "    lon1 = np.radians(data[lon1].astype(float))\n",
    "    lat1 = np.radians(data[lat1].astype(float))\n",
    "    lon2 = np.radians(data[lon2].astype(float))\n",
    "    lat2 = np.radians(data[lat2].astype(float))\n",
    "\n",
    "    dlon = lon2 - lon1 \n",
    "    dlat = lat2 - lat1\n",
    "\n",
    "    a = np.sin(dlat/2)**2\n",
    "    b = np.cos(lat1)* np.cos(lat2) * np.sin(dlon/2)**2\n",
    "    r = 6371\n",
    "    return 2*r*np.arcsin(np.sqrt(a+b))"
   ]
  },
  {
   "cell_type": "markdown",
   "metadata": {
    "id": "kWmDkN9G4FaW"
   },
   "source": [
    "We would also like to extract several time features that might be useful. As described earlier, we would like to help both commuters and drivers determine their own optimal time. Given that the `pickup_datetime` columns is a series of timestamps, we would like to extract the following features:\n",
    "- hour,\n",
    "- day of the week,\n",
    "- month, and\n",
    "- year\n",
    "\n",
    "Knowing all these, we then perform feature engineering to extract the distance and time features we have just described."
   ]
  },
  {
   "cell_type": "code",
   "execution_count": null,
   "metadata": {
    "colab": {
     "base_uri": "https://localhost:8080/",
     "height": 206
    },
    "id": "-W8DE0iGy1WI",
    "outputId": "e2a3aef5-c59e-4d02-d5a0-3adb75c4b7c7"
   },
   "outputs": [
    {
     "data": {
      "text/html": [
       "<div>\n",
       "<style scoped>\n",
       "    .dataframe tbody tr th:only-of-type {\n",
       "        vertical-align: middle;\n",
       "    }\n",
       "\n",
       "    .dataframe tbody tr th {\n",
       "        vertical-align: top;\n",
       "    }\n",
       "\n",
       "    .dataframe thead th {\n",
       "        text-align: right;\n",
       "    }\n",
       "</style>\n",
       "<table border=\"1\" class=\"dataframe\">\n",
       "  <thead>\n",
       "    <tr style=\"text-align: right;\">\n",
       "      <th></th>\n",
       "      <th>hour</th>\n",
       "      <th>day_of_week</th>\n",
       "      <th>month</th>\n",
       "      <th>year</th>\n",
       "      <th>passenger_count</th>\n",
       "      <th>distance</th>\n",
       "      <th>fare_amount</th>\n",
       "    </tr>\n",
       "  </thead>\n",
       "  <tbody>\n",
       "    <tr>\n",
       "      <th>0</th>\n",
       "      <td>17</td>\n",
       "      <td>0</td>\n",
       "      <td>6</td>\n",
       "      <td>2009</td>\n",
       "      <td>1</td>\n",
       "      <td>1.030764</td>\n",
       "      <td>4.5</td>\n",
       "    </tr>\n",
       "    <tr>\n",
       "      <th>1</th>\n",
       "      <td>16</td>\n",
       "      <td>1</td>\n",
       "      <td>1</td>\n",
       "      <td>2010</td>\n",
       "      <td>1</td>\n",
       "      <td>8.450134</td>\n",
       "      <td>16.9</td>\n",
       "    </tr>\n",
       "    <tr>\n",
       "      <th>2</th>\n",
       "      <td>0</td>\n",
       "      <td>3</td>\n",
       "      <td>8</td>\n",
       "      <td>2011</td>\n",
       "      <td>2</td>\n",
       "      <td>1.389525</td>\n",
       "      <td>5.7</td>\n",
       "    </tr>\n",
       "    <tr>\n",
       "      <th>3</th>\n",
       "      <td>4</td>\n",
       "      <td>5</td>\n",
       "      <td>4</td>\n",
       "      <td>2012</td>\n",
       "      <td>1</td>\n",
       "      <td>2.799270</td>\n",
       "      <td>7.7</td>\n",
       "    </tr>\n",
       "    <tr>\n",
       "      <th>4</th>\n",
       "      <td>7</td>\n",
       "      <td>1</td>\n",
       "      <td>3</td>\n",
       "      <td>2010</td>\n",
       "      <td>1</td>\n",
       "      <td>1.999157</td>\n",
       "      <td>5.3</td>\n",
       "    </tr>\n",
       "  </tbody>\n",
       "</table>\n",
       "</div>"
      ],
      "text/plain": [
       "   hour  day_of_week  month  year  passenger_count  distance  fare_amount\n",
       "0    17            0      6  2009                1  1.030764          4.5\n",
       "1    16            1      1  2010                1  8.450134         16.9\n",
       "2     0            3      8  2011                2  1.389525          5.7\n",
       "3     4            5      4  2012                1  2.799270          7.7\n",
       "4     7            1      3  2010                1  1.999157          5.3"
      ]
     },
     "execution_count": 13,
     "metadata": {
      "tags": []
     },
     "output_type": "execute_result"
    }
   ],
   "source": [
    "df['pickup_datetime'] = pd.to_datetime(df['pickup_datetime'])\n",
    "df['hour'] = df['pickup_datetime'].apply(lambda date: date.hour)\n",
    "df['day_of_week'] = df['pickup_datetime'].apply(lambda date: date.dayofweek)\n",
    "df['month'] = df['pickup_datetime'].apply(lambda date: date.month)\n",
    "df['year'] = df['pickup_datetime'].apply(lambda date: date.year)\n",
    "\n",
    "coordinates = ['pickup_longitude', 'pickup_latitude', 'dropoff_longitude',\n",
    "    'dropoff_latitude']\n",
    "df['distance'] = haversine(df, coordinates)\n",
    "\n",
    "columns = ['hour', 'day_of_week', 'month', 'year', 'passenger_count',\n",
    "    'distance', 'fare_amount']\n",
    "df = df[columns]\n",
    "df.head()"
   ]
  },
  {
   "cell_type": "markdown",
   "metadata": {
    "id": "oSXlYt8S4H_3"
   },
   "source": [
    "Categorical variable columns:\n",
    "- `hour`\n",
    "- `day_of_week`\n",
    "- `month`\n",
    "- `year`\n",
    "- `passenger_count`\n",
    "\n",
    "Continuous variable column:\n",
    "- `distance`\n",
    "\n",
    "Target variable column:\n",
    "- `fare_amount`\n",
    "\n",
    "At this point, we now have the features and target we would like to train our model on. However, it is possible that our model might treat the categorical features as continuous variables. The concept behind encoding is necessary in machine learning because it converts non-numeric features into numeric ones. Although our categorical variables are already numeric, it is still good practice to use encoding on the caterogical features. The common choice of encoding is one-hot encoding, wherein a column is split into multiple columns depending on the number of categories present in that column. However, one-hot encoding increases the number features, which is not good for any tree-based algorithm. An alternative for this is label-encoding, which preserves the ordinal nature of your feature. In scikit-learn, this can be implemented using `sklearn.preprocessing.LabelEncoder`. However, the downside to this is that it utilizes a lot of RAM. We could opt to use the pandas `category` datatyple instead. Internally, this uses a hash table, whereas `LabelEncoder` uses a sorted batch.\n",
    "\n",
    "We would first like to create a custom transformer class that we could use to handle multiple columns at once."
   ]
  },
  {
   "cell_type": "code",
   "execution_count": null,
   "metadata": {
    "id": "0FFxsnumFP3D"
   },
   "outputs": [],
   "source": [
    "class PandasLabelEncoder(BaseEstimator, TransformerMixin):\n",
    "    def __init__(self, columns=None):\n",
    "        self.columns = columns\n",
    "\n",
    "    def fit(self, X, y=None):\n",
    "        return self\n",
    "\n",
    "    def transform(self, X):\n",
    "        output = X.copy()[self.columns]\n",
    "        for col in self.columns:\n",
    "            output[col] = output[col].astype('category').cat.codes\n",
    "\n",
    "        return output\n",
    "\n",
    "    def fit_transform(self, X, y=None):\n",
    "        return self.fit(X, y).transform(X)"
   ]
  },
  {
   "cell_type": "markdown",
   "metadata": {
    "id": "ZkKerpq64Kub"
   },
   "source": [
    "Before proceeding, we would like to perform a sanity check to see if our custom transformer is working properly."
   ]
  },
  {
   "cell_type": "code",
   "execution_count": null,
   "metadata": {
    "colab": {
     "base_uri": "https://localhost:8080/",
     "height": 206
    },
    "id": "bLnoMJ6FJG0b",
    "outputId": "478b0d76-e6f1-4265-d590-1cdefd4c5446"
   },
   "outputs": [
    {
     "data": {
      "text/html": [
       "<div>\n",
       "<style scoped>\n",
       "    .dataframe tbody tr th:only-of-type {\n",
       "        vertical-align: middle;\n",
       "    }\n",
       "\n",
       "    .dataframe tbody tr th {\n",
       "        vertical-align: top;\n",
       "    }\n",
       "\n",
       "    .dataframe thead th {\n",
       "        text-align: right;\n",
       "    }\n",
       "</style>\n",
       "<table border=\"1\" class=\"dataframe\">\n",
       "  <thead>\n",
       "    <tr style=\"text-align: right;\">\n",
       "      <th></th>\n",
       "      <th>hour</th>\n",
       "      <th>day_of_week</th>\n",
       "      <th>month</th>\n",
       "      <th>year</th>\n",
       "    </tr>\n",
       "  </thead>\n",
       "  <tbody>\n",
       "    <tr>\n",
       "      <th>0</th>\n",
       "      <td>17</td>\n",
       "      <td>0</td>\n",
       "      <td>5</td>\n",
       "      <td>0</td>\n",
       "    </tr>\n",
       "    <tr>\n",
       "      <th>1</th>\n",
       "      <td>16</td>\n",
       "      <td>1</td>\n",
       "      <td>0</td>\n",
       "      <td>1</td>\n",
       "    </tr>\n",
       "    <tr>\n",
       "      <th>2</th>\n",
       "      <td>0</td>\n",
       "      <td>3</td>\n",
       "      <td>7</td>\n",
       "      <td>2</td>\n",
       "    </tr>\n",
       "    <tr>\n",
       "      <th>3</th>\n",
       "      <td>4</td>\n",
       "      <td>5</td>\n",
       "      <td>3</td>\n",
       "      <td>3</td>\n",
       "    </tr>\n",
       "    <tr>\n",
       "      <th>4</th>\n",
       "      <td>7</td>\n",
       "      <td>1</td>\n",
       "      <td>2</td>\n",
       "      <td>1</td>\n",
       "    </tr>\n",
       "  </tbody>\n",
       "</table>\n",
       "</div>"
      ],
      "text/plain": [
       "   hour  day_of_week  month  year\n",
       "0    17            0      5     0\n",
       "1    16            1      0     1\n",
       "2     0            3      7     2\n",
       "3     4            5      3     3\n",
       "4     7            1      2     1"
      ]
     },
     "execution_count": 15,
     "metadata": {
      "tags": []
     },
     "output_type": "execute_result"
    }
   ],
   "source": [
    "ple = PandasLabelEncoder(['hour', 'day_of_week', 'month', 'year'])\n",
    "df_temp = ple.fit_transform(df)\n",
    "df_temp.head()"
   ]
  },
  {
   "cell_type": "markdown",
   "metadata": {
    "id": "8PhXYKPn4MrV"
   },
   "source": [
    "Seeing that it works properly, we then create a `preprocess` transformer to apply the pandas label encoder we have just created and perform min-max scaling on the distance feature."
   ]
  },
  {
   "cell_type": "code",
   "execution_count": null,
   "metadata": {
    "id": "1d23g1l8F2IN"
   },
   "outputs": [],
   "source": [
    "time_pipeline = Pipeline([\n",
    "    ('time_features', PandasLabelEncoder(['hour', 'day_of_week', 'month',\n",
    "        'year']))\n",
    "])\n",
    "passenger_pipeline = Pipeline([\n",
    "    ('passenger_count', PandasLabelEncoder(['passenger_count']))\n",
    "])\n",
    "\n",
    "preprocess = ColumnTransformer([\n",
    "    ('time_pipeline', time_pipeline, ['hour', 'day_of_week', 'month', 'year']),\n",
    "    ('passenger_pipeline', passenger_pipeline, ['passenger_count']),\n",
    "    ('distance', MinMaxScaler(), ['distance'])\n",
    "])"
   ]
  },
  {
   "cell_type": "markdown",
   "metadata": {
    "id": "jkkP3ZsJ4PBa"
   },
   "source": [
    "# Model Training\n",
    "\n",
    "We are now ready to begin model training. As laid out earlier, we would like to determine the influence of the distance and time features when predicting the fare amount. Therefore, we will first train a model on all features extracted (distance, time features, and passenger count), and then we will train another model on the time features and passenger count only."
   ]
  },
  {
   "cell_type": "markdown",
   "metadata": {
    "id": "XB9LuInd4Qtd"
   },
   "source": [
    "## Training on Distance, Time Features, and Passenger Count\n",
    "\n",
    "We first define our matrices `X` and `y`, and then we split these into training and validation matrices with a validation split of 0.1 (10%). Given how large the dataset is, you could choose a smaller validation split to increase the training samples. However, due to memory limits, we will stick with 0.1 as our validation split to not pass too many samples into the model during training."
   ]
  },
  {
   "cell_type": "code",
   "execution_count": null,
   "metadata": {
    "colab": {
     "base_uri": "https://localhost:8080/"
    },
    "id": "rQSoxfjJz55T",
    "outputId": "891ac6e6-a226-4adb-a7f7-f2ddd2326db3"
   },
   "outputs": [
    {
     "name": "stdout",
     "output_type": "stream",
     "text": [
      "Training samples:   1318763\n",
      "Validation samples: 146530\n"
     ]
    }
   ],
   "source": [
    "X = df.drop(['fare_amount'], axis=1)\n",
    "y = df['fare_amount']\n",
    "\n",
    "X_train, X_val, y_train, y_val = train_test_split(X, y, test_size=0.1,\n",
    "    random_state=0)\n",
    "\n",
    "print(f'Training samples:   {len(X_train)}')\n",
    "print(f'Validation samples: {len(X_val)}')\n",
    "\n",
    "X_train = preprocess.fit_transform(X_train)\n",
    "X_val = preprocess.transform(X_val)"
   ]
  },
  {
   "cell_type": "markdown",
   "metadata": {
    "id": "SbOmbvj24WrA"
   },
   "source": [
    "We then begin initial training of the model."
   ]
  },
  {
   "cell_type": "code",
   "execution_count": null,
   "metadata": {
    "colab": {
     "base_uri": "https://localhost:8080/"
    },
    "id": "5hZ5BLy5zhgS",
    "outputId": "46ebd11e-c111-47bb-9e3a-1678fb945c79"
   },
   "outputs": [
    {
     "name": "stdout",
     "output_type": "stream",
     "text": [
      "Training complete in 7m 44s\n"
     ]
    }
   ],
   "source": [
    "start_time = time()\n",
    "rf = RandomForestRegressor(n_jobs=-1)\n",
    "rf.fit(X_train, y_train)\n",
    "time_elapsed = time() - start_time\n",
    "print(f'Training complete in {time_elapsed // 60:.0f}m {time_elapsed % 60:.0f}s')"
   ]
  },
  {
   "cell_type": "markdown",
   "metadata": {
    "id": "7u7VTDNB4Y_u"
   },
   "source": [
    "Let us see the feature importances of the model we have just trained."
   ]
  },
  {
   "cell_type": "code",
   "execution_count": null,
   "metadata": {
    "colab": {
     "base_uri": "https://localhost:8080/",
     "height": 334
    },
    "id": "i8ulZje8JNvr",
    "outputId": "73b739da-114b-415c-d0d4-2a1e158f8a43"
   },
   "outputs": [
    {
     "data": {
      "image/png": "[encoded data removed]",
      "text/plain": [
       "<Figure size 720x360 with 1 Axes>"
      ]
     },
     "metadata": {
      "needs_background": "light",
      "tags": []
     },
     "output_type": "display_data"
    }
   ],
   "source": [
    "features = np.array(X.columns)\n",
    "importances = rf.feature_importances_\n",
    "indices = np.argsort(importances)\n",
    "\n",
    "plt.figure(figsize=(10, 5))\n",
    "plt.barh(range(len(indices)), importances[indices], align='center')\n",
    "plt.yticks(range(len(indices)), [features[i] for i in indices])\n",
    "plt.xlabel('Feature importance')\n",
    "plt.ylabel('Feature')\n",
    "plt.show()"
   ]
  },
  {
   "cell_type": "markdown",
   "metadata": {
    "id": "M6fYAhW94cPD"
   },
   "source": [
    "Here we could see that our trained model puts a lot of importance on the `distance` feature, followed by the most broad time feature (i.e., the `year` feature), and lastly by the `passenger_count` feature. We see that the number of passengers has little to no effect on the fare amount. Moreover, this tells us that the fare amount can only be accurately predicted once we know the distance traveled. However, it should also be noted that attributes with low feature importance does not mean it is uninformative, but rather it was not picked by the model because other features likely encode the same information. Let us now see how our model performs. To do this, we use our model to predict the fare amount on the training and validation sets."
   ]
  },
  {
   "cell_type": "code",
   "execution_count": null,
   "metadata": {
    "colab": {
     "base_uri": "https://localhost:8080/"
    },
    "id": "l0FFhnN6zmc9",
    "outputId": "d368791f-83a3-4213-83a4-ec5de67a5d71"
   },
   "outputs": [
    {
     "name": "stdout",
     "output_type": "stream",
     "text": [
      "RMSE (train): 1.504\n",
      "RMSE (val):   3.824\n"
     ]
    }
   ],
   "source": [
    "y_pred_train = rf.predict(X_train)\n",
    "y_pred_val = rf.predict(X_val)\n",
    "rmse_train = mean_squared_error(y_train, y_pred_train)**0.5\n",
    "rmse_val = mean_squared_error(y_val, y_pred_val)**0.5\n",
    "print(f'RMSE (train): {rmse_train:5.3f}')\n",
    "print(f'RMSE (val):   {rmse_val:5.3f}')"
   ]
  },
  {
   "cell_type": "markdown",
   "metadata": {
    "id": "zm7Lmrr79pHu"
   },
   "source": [
    "Results show that we get a RMSE value of \\$1.504 when tested on the training set, and a RMSE value of \\$3.824 when tested on the validation set. Seeing that the mean fare amount of our pruned dataset is \\$11.146, our training RMSE is approximately 13.49% of the mean value, and our validation RMSE is 34.31% of the mean value. A lower percentage would mean higher accuracy in our predictions. However, we wouldn't want to overfit on the training data, and thus we will perform hyperparameter tuning later to avoid this issue."
   ]
  },
  {
   "cell_type": "markdown",
   "metadata": {
    "id": "VY-STT304fLW"
   },
   "source": [
    "## Training on Time Features and Passenger Count only\n",
    "\n",
    "We then repeat the process but consider only the time features and passenger count. We first generate `preprocess_pu` transformer that will take in only the time features."
   ]
  },
  {
   "cell_type": "code",
   "execution_count": null,
   "metadata": {
    "id": "NdgWYVv4JLCA"
   },
   "outputs": [],
   "source": [
    "preprocess_pu = ColumnTransformer([\n",
    "    ('time_pipeline', time_pipeline, ['hour', 'day_of_week', 'month', 'year']),\n",
    "    ('passenger_pipeline', passenger_pipeline, ['passenger_count'])\n",
    "])"
   ]
  },
  {
   "cell_type": "markdown",
   "metadata": {
    "id": "PhUTvRuZ4hKW"
   },
   "source": [
    "We then split the dataset into training and validation sets."
   ]
  },
  {
   "cell_type": "code",
   "execution_count": null,
   "metadata": {
    "colab": {
     "base_uri": "https://localhost:8080/"
    },
    "id": "R349nTw1Jia4",
    "outputId": "e743f8c0-9c76-4086-e437-fd3bb415285a"
   },
   "outputs": [
    {
     "name": "stdout",
     "output_type": "stream",
     "text": [
      "Training samples:   1318763\n",
      "Validation samples: 146530\n"
     ]
    }
   ],
   "source": [
    "X_pu = df.drop(['distance', 'fare_amount'], axis=1)\n",
    "y_pu = df['fare_amount']\n",
    "\n",
    "X_train_pu, X_val_pu, y_train_pu, y_val_pu = train_test_split(X_pu, y_pu,\n",
    "    test_size=0.1, random_state=0)\n",
    "\n",
    "print(f'Training samples:   {len(X_train_pu)}')\n",
    "print(f'Validation samples: {len(X_val_pu)}')\n",
    "\n",
    "X_train_pu = preprocess_pu.fit_transform(X_train_pu)\n",
    "X_val_pu = preprocess_pu.transform(X_val_pu)"
   ]
  },
  {
   "cell_type": "markdown",
   "metadata": {
    "id": "yvENLOSZ4j7d"
   },
   "source": [
    "Then we perform model training."
   ]
  },
  {
   "cell_type": "code",
   "execution_count": null,
   "metadata": {
    "colab": {
     "base_uri": "https://localhost:8080/"
    },
    "id": "XU_UAIMKJiZP",
    "outputId": "4927bb37-93e7-45b4-9d18-7463ec4a7531"
   },
   "outputs": [
    {
     "name": "stdout",
     "output_type": "stream",
     "text": [
      "Training complete in 4m 22s\n"
     ]
    }
   ],
   "source": [
    "start_time = time()\n",
    "rf_pu = RandomForestRegressor(n_jobs=-1)\n",
    "rf_pu.fit(X_train_pu, y_train_pu)\n",
    "time_elapsed = time() - start_time\n",
    "print(f'Training complete in {time_elapsed // 60:.0f}m {time_elapsed % 60:.0f}s')"
   ]
  },
  {
   "cell_type": "markdown",
   "metadata": {
    "id": "lq9LZhuf4mRx"
   },
   "source": [
    "We then extract the feature importances of `rf_pu`."
   ]
  },
  {
   "cell_type": "code",
   "execution_count": null,
   "metadata": {
    "colab": {
     "base_uri": "https://localhost:8080/",
     "height": 334
    },
    "id": "8MJH-qw-1WDk",
    "outputId": "9450b10e-97fa-4763-9a03-45b7f30904cf"
   },
   "outputs": [
    {
     "data": {
      "image/png": "[encoded data removed]",
      "text/plain": [
       "<Figure size 720x360 with 1 Axes>"
      ]
     },
     "metadata": {
      "needs_background": "light",
      "tags": []
     },
     "output_type": "display_data"
    }
   ],
   "source": [
    "features_pu = np.array(X_pu.columns)\n",
    "importances_pu = rf_pu.feature_importances_\n",
    "indices_pu = np.argsort(importances_pu)\n",
    "\n",
    "plt.figure(figsize=(10, 5))\n",
    "plt.barh(range(len(indices_pu)), importances_pu[indices_pu], align='center')\n",
    "plt.yticks(range(len(indices_pu)), [features_pu[i] for i in indices_pu])\n",
    "plt.xlabel('Feature importance')\n",
    "plt.ylabel('Feature')\n",
    "plt.show()"
   ]
  },
  {
   "cell_type": "markdown",
   "metadata": {
    "id": "JINw0Xs84osz"
   },
   "source": [
    "We see a similar pattern to the feature importances generated by our first model; we still see that the `passenger_count` feature has little effect on the fare amount. Moreover, we now see the `month` feature being given more importance than the `year` feature. Lastly, we test our model on the training and validation sets to see how well it performs."
   ]
  },
  {
   "cell_type": "code",
   "execution_count": null,
   "metadata": {
    "colab": {
     "base_uri": "https://localhost:8080/"
    },
    "id": "IUjgOsI0JpTB",
    "outputId": "9c6c32a8-d299-48ec-92ad-30f17b5e2d39"
   },
   "outputs": [
    {
     "name": "stdout",
     "output_type": "stream",
     "text": [
      "RMSE (train): 8.499\n",
      "RMSE (val):   8.980\n"
     ]
    }
   ],
   "source": [
    "y_pred_train = rf_pu.predict(X_train_pu)\n",
    "y_pred_val = rf_pu.predict(X_val_pu)\n",
    "rmse_train = mean_squared_error(y_train_pu, y_pred_train)**0.5\n",
    "rmse_val = mean_squared_error(y_val_pu, y_pred_val)**0.5\n",
    "print(f'RMSE (train): {rmse_train:5.3f}')\n",
    "print(f'RMSE (val):   {rmse_val:5.3f}')"
   ]
  },
  {
   "cell_type": "markdown",
   "metadata": {
    "id": "z6k1yehoAKOr"
   },
   "source": [
    "Here we see that our model generally performs worse than our first model. However, because the training and validation RMSEs are very close to each other, this tells us that we could be underfitting, as compared the that of our previous model which tells us that we could be overfitting."
   ]
  },
  {
   "cell_type": "markdown",
   "metadata": {
    "id": "c0PCNJG64srI"
   },
   "source": [
    "# Hyperparameter Tuning\n",
    "\n",
    "After the initial model training we have just done, we now proceed to hyperparameter tuning. Because the dataset we are dealing with is large, it would be best to reduce the hyperparameter space to search over (i.e., reduce the number of hyperpameters to search over). Therefore, in our `param_grid`, we ssearch only over three hyperparameters: `n_estimators`, `max_depth`, and `max_features`. For `n_estimators`, we search only over the list `[5, 10, 30, 40, 50]`, for the `max_depth` feature we search over the list `[4, 8, None]`, and for the `max_features` hyperparamter we search over the list `[2, 4, 'auto']`."
   ]
  },
  {
   "cell_type": "markdown",
   "metadata": {
    "id": "61nJ17PX4soV"
   },
   "source": [
    "## Training on Distance, Time Features, and Passenger Count\n",
    "\n",
    "We first start with the model trained on the distance, time features, and passenger count."
   ]
  },
  {
   "cell_type": "code",
   "execution_count": null,
   "metadata": {
    "colab": {
     "base_uri": "https://localhost:8080/"
    },
    "id": "djO2m6lbKlMz",
    "outputId": "38c25810-9bb3-44e3-d5b0-4c04f1e6750b"
   },
   "outputs": [
    {
     "name": "stdout",
     "output_type": "stream",
     "text": [
      "Trining complete in 170m 28s\n"
     ]
    }
   ],
   "source": [
    "param_grid = {\n",
    "    'n_estimators':[5, 10, 30, 40, 50],\n",
    "    'max_depth':[4, 8, None],\n",
    "    'max_features':[2, 4, 'auto']\n",
    "}\n",
    "\n",
    "rf = RandomForestRegressor(n_jobs=-1)\n",
    "\n",
    "start_time = time()\n",
    "gs = GridSearchCV(rf, param_grid, cv=5, n_jobs=-1, scoring='neg_mean_squared_error')\n",
    "search = gs.fit(X_train, y_train)\n",
    "time_elapsed = time() - start_time\n",
    "print(f'Training complete in {time_elapsed // 60:.0f}m {time_elapsed % 60:.0f}s')"
   ]
  },
  {
   "cell_type": "markdown",
   "metadata": {
    "id": "MR4Faqfz4wg5"
   },
   "source": [
    "Let us see what the best parameters are."
   ]
  },
  {
   "cell_type": "code",
   "execution_count": null,
   "metadata": {
    "colab": {
     "base_uri": "https://localhost:8080/"
    },
    "id": "SI5-xSVffOFE",
    "outputId": "d0e5436c-e25b-487f-dc82-3e09edc76802"
   },
   "outputs": [
    {
     "name": "stdout",
     "output_type": "stream",
     "text": [
      "max_depth: 8\n",
      "max_features: 4\n",
      "n_estimators: 40\n"
     ]
    }
   ],
   "source": [
    "for key in search.best_params_.keys():\n",
    "    print(f'{key}: {search.best_params_[key]}')"
   ]
  },
  {
   "cell_type": "markdown",
   "metadata": {
    "id": "5jxPc9Y54yvd"
   },
   "source": [
    "Let us also check the feature importances of the best model."
   ]
  },
  {
   "cell_type": "code",
   "execution_count": null,
   "metadata": {
    "colab": {
     "base_uri": "https://localhost:8080/",
     "height": 334
    },
    "id": "wX_vg31HsbLh",
    "outputId": "c5b9f00a-60a3-46cf-8a9d-5dba5a9c659d"
   },
   "outputs": [
    {
     "data": {
      "image/png": "[encoded data removed]",
      "text/plain": [
       "<Figure size 720x360 with 1 Axes>"
      ]
     },
     "metadata": {
      "needs_background": "light",
      "tags": []
     },
     "output_type": "display_data"
    }
   ],
   "source": [
    "rf_best = search.best_estimator_\n",
    "features = np.array(X.columns)\n",
    "importances = rf_best.feature_importances_\n",
    "indices = np.argsort(importances)\n",
    "\n",
    "plt.figure(figsize=(10, 5))\n",
    "plt.barh(range(len(indices)), importances[indices], align='center')\n",
    "plt.yticks(range(len(indices)), [features[i] for i in indices])\n",
    "plt.xlabel('Feature importance')\n",
    "plt.ylabel('Feature')\n",
    "plt.show()"
   ]
  },
  {
   "cell_type": "markdown",
   "metadata": {
    "id": "px4VlGok43H3"
   },
   "source": [
    "Once again, we see a very similar pattern of the feature importances to our initial model. This time, however, we see that our model completely removes the `month`, `day_of_week`, and `passenger_count` features (or at least that is what we see in the plot). We will then evaluate its performance on the training and validation sets."
   ]
  },
  {
   "cell_type": "code",
   "execution_count": null,
   "metadata": {
    "colab": {
     "base_uri": "https://localhost:8080/"
    },
    "id": "5F9M-E37-Cy5",
    "outputId": "63c47a54-3a58-4a4d-d973-974ebc3ec661"
   },
   "outputs": [
    {
     "name": "stdout",
     "output_type": "stream",
     "text": [
      "RMSE (train): 3.672\n",
      "RMSE (val):   3.696\n"
     ]
    }
   ],
   "source": [
    "y_pred_train = rf_best.predict(X_train)\n",
    "y_pred_val = rf_best.predict(X_val)\n",
    "rmse_train = mean_squared_error(y_train, y_pred_train)**0.5\n",
    "rmse_val = mean_squared_error(y_val, y_pred_val)**0.5\n",
    "print(f'RMSE (train): {rmse_train:5.3f}')\n",
    "print(f'RMSE (val):   {rmse_val:5.3f}')"
   ]
  },
  {
   "cell_type": "markdown",
   "metadata": {
    "id": "-apr2UHWBX6h"
   },
   "source": [
    "This time, we see that the RMSEs of our training and validation predictions are close to each other, indicating that we are probably underfitting. However, we will keep this model as is because it could probably perform better in generalization."
   ]
  },
  {
   "cell_type": "markdown",
   "metadata": {
    "id": "toRwOK8G45ZM"
   },
   "source": [
    "## Training on Time Features and Passenger Count only\n",
    "\n",
    "We then tune the hyperparameters of the model trained on the time featuers and passenger count only."
   ]
  },
  {
   "cell_type": "code",
   "execution_count": null,
   "metadata": {
    "colab": {
     "base_uri": "https://localhost:8080/"
    },
    "id": "wy9U1alaJ2cM",
    "outputId": "891eee09-5b5c-4307-daa9-fe7f73b93ec4"
   },
   "outputs": [
    {
     "name": "stdout",
     "output_type": "stream",
     "text": [
      "Training complete in 131m 32s\n"
     ]
    }
   ],
   "source": [
    "rf_pu = RandomForestRegressor(n_jobs=-1)\n",
    "\n",
    "start_time = time()\n",
    "gs_pu = GridSearchCV(rf_pu, param_grid, cv=5, scoring='neg_mean_squared_error')\n",
    "search_pu = gs_pu.fit(X_train_pu, y_train_pu)\n",
    "time_elapsed = time() - start_time\n",
    "print(f'Training complete in {time_elapsed // 60:.0f}m {time_elapsed % 60:.0f}s')"
   ]
  },
  {
   "cell_type": "markdown",
   "metadata": {
    "id": "FO3tXX5_5BnT"
   },
   "source": [
    "Let us see what the best parameters are."
   ]
  },
  {
   "cell_type": "code",
   "execution_count": null,
   "metadata": {
    "colab": {
     "base_uri": "https://localhost:8080/"
    },
    "id": "sww56fkyJ2VM",
    "outputId": "0c8dd27d-d169-468c-8872-208bd9777515"
   },
   "outputs": [
    {
     "name": "stdout",
     "output_type": "stream",
     "text": [
      "max_depth: 8\n",
      "max_features: 4\n",
      "n_estimators: 50\n"
     ]
    }
   ],
   "source": [
    "for key in search_pu.best_params_.keys():\n",
    "    print(f'{key}: {search_pu.best_params_[key]}')"
   ]
  },
  {
   "cell_type": "markdown",
   "metadata": {
    "id": "n8uZ73MC5DpL"
   },
   "source": [
    "The selected best parameters are very similar to our other hyperparameter-tuned model, except that there are 10 more estimators in this model. We would now like to see the feature importances of the best model."
   ]
  },
  {
   "cell_type": "code",
   "execution_count": null,
   "metadata": {
    "colab": {
     "base_uri": "https://localhost:8080/",
     "height": 334
    },
    "id": "z68W3ix71hfN",
    "outputId": "ab31bf86-094f-407f-efb2-1e6336bbe970"
   },
   "outputs": [
    {
     "data": {
      "image/png": "[encoded data removed]",
      "text/plain": [
       "<Figure size 720x360 with 1 Axes>"
      ]
     },
     "metadata": {
      "needs_background": "light",
      "tags": []
     },
     "output_type": "display_data"
    }
   ],
   "source": [
    "rf_pu_best = search_pu.best_estimator_\n",
    "importances_pu = rf_pu_best.feature_importances_\n",
    "indices_pu = np.argsort(importances_pu)\n",
    "\n",
    "plt.figure(figsize=(10, 5))\n",
    "plt.barh(range(len(indices_pu)), importances_pu[indices_pu], align='center')\n",
    "plt.yticks(range(len(indices_pu)), [features_pu[i] for i in indices_pu])\n",
    "plt.xlabel('Feature importance')\n",
    "plt.ylabel('Feature')\n",
    "plt.show()"
   ]
  },
  {
   "cell_type": "markdown",
   "metadata": {
    "id": "sIbLAqIW5HER"
   },
   "source": [
    "Surprisingly enough, the `passenger_count` feature is no longer given the least importance. Moreover, we see that the `year`, `hour`, and `month` features are given the top three most importance. Therefore, we could say that these three features alone could be sufficient enough to predict the fare amount to some degree before the trip has even been made. We now evaluate its performance on the training and validation sets."
   ]
  },
  {
   "cell_type": "code",
   "execution_count": null,
   "metadata": {
    "colab": {
     "base_uri": "https://localhost:8080/"
    },
    "id": "pOaZHEdIJ2PL",
    "outputId": "ff5d6eb1-f817-4fa2-c261-afd2b5aede94"
   },
   "outputs": [
    {
     "name": "stdout",
     "output_type": "stream",
     "text": [
      "RMSE (train): 8.771\n",
      "RMSE (val):   8.734\n"
     ]
    }
   ],
   "source": [
    "y_pred_train = rf_pu_best.predict(X_train_pu)\n",
    "y_pred_val = rf_pu_best.predict(X_val_pu)\n",
    "rmse_train = mean_squared_error(y_train_pu, y_pred_train)**0.5\n",
    "rmse_val = mean_squared_error(y_val_pu, y_pred_val)**0.5\n",
    "print(f'RMSE (train): {rmse_train:5.3f}')\n",
    "print(f'RMSE (val):   {rmse_val:5.3f}')"
   ]
  },
  {
   "cell_type": "markdown",
   "metadata": {
    "id": "YAIpmzxDCsFg"
   },
   "source": [
    "We see that our model trained only on the time features and passenger count still performs worse than our model that is also trained on the distance feature. Therefore, we conclude that knowing the time when taking a taxi and the number of passengers in the taxi is not enough to predict the fare amount. This tells us that we cannot accurately predict the optimal time for passengers to take a taxi and for drivers to determine the peak hours. This also tells us that taxi drivers cannot determine beforehand which of two trips is more profitable until after the trip has been made."
   ]
  },
  {
   "cell_type": "markdown",
   "metadata": {
    "id": "-2j77LG15LAL"
   },
   "source": [
    "# Model Testing\n",
    "\n",
    "At this point, we would like to see how well our models perform on unseen data. Although the scores on the validation set could be a reliable source of determinig the model performance, it is possible that the distributions of the training and validation sets are similar, and thus it does not tell us much about how well our model can generalize to unseen data. That being said, we would like to test our models on the test set of the New York City Taxi Fare Prediction dataset (available [here](https://www.kaggle.com/c/new-york-city-taxi-fare-prediction/data?select=test.csv))."
   ]
  },
  {
   "cell_type": "markdown",
   "metadata": {
    "id": "nY6oLR1C5NSA"
   },
   "source": [
    "## Loading and Transforming the Test Dataset\n",
    "\n",
    "We must first load the dataset and perform the necessary transformations for preprocessing."
   ]
  },
  {
   "cell_type": "code",
   "execution_count": null,
   "metadata": {
    "colab": {
     "base_uri": "https://localhost:8080/",
     "height": 206
    },
    "id": "AbZ4C5rrIB3X",
    "outputId": "99285bf4-4620-4d2c-cae3-dfa1453001fd"
   },
   "outputs": [
    {
     "data": {
      "text/html": [
       "<div>\n",
       "<style scoped>\n",
       "    .dataframe tbody tr th:only-of-type {\n",
       "        vertical-align: middle;\n",
       "    }\n",
       "\n",
       "    .dataframe tbody tr th {\n",
       "        vertical-align: top;\n",
       "    }\n",
       "\n",
       "    .dataframe thead th {\n",
       "        text-align: right;\n",
       "    }\n",
       "</style>\n",
       "<table border=\"1\" class=\"dataframe\">\n",
       "  <thead>\n",
       "    <tr style=\"text-align: right;\">\n",
       "      <th></th>\n",
       "      <th>key</th>\n",
       "      <th>distance</th>\n",
       "      <th>hour</th>\n",
       "      <th>day_of_week</th>\n",
       "      <th>month</th>\n",
       "      <th>year</th>\n",
       "      <th>passenger_count</th>\n",
       "    </tr>\n",
       "  </thead>\n",
       "  <tbody>\n",
       "    <tr>\n",
       "      <th>0</th>\n",
       "      <td>2015-01-27 13:08:24.0000002</td>\n",
       "      <td>2.323260</td>\n",
       "      <td>13</td>\n",
       "      <td>1</td>\n",
       "      <td>1</td>\n",
       "      <td>2015</td>\n",
       "      <td>1</td>\n",
       "    </tr>\n",
       "    <tr>\n",
       "      <th>1</th>\n",
       "      <td>2015-01-27 13:08:24.0000003</td>\n",
       "      <td>2.425353</td>\n",
       "      <td>13</td>\n",
       "      <td>1</td>\n",
       "      <td>1</td>\n",
       "      <td>2015</td>\n",
       "      <td>1</td>\n",
       "    </tr>\n",
       "    <tr>\n",
       "      <th>2</th>\n",
       "      <td>2011-10-08 11:53:44.0000002</td>\n",
       "      <td>0.618628</td>\n",
       "      <td>11</td>\n",
       "      <td>5</td>\n",
       "      <td>10</td>\n",
       "      <td>2011</td>\n",
       "      <td>1</td>\n",
       "    </tr>\n",
       "    <tr>\n",
       "      <th>3</th>\n",
       "      <td>2012-12-01 21:12:12.0000002</td>\n",
       "      <td>1.961033</td>\n",
       "      <td>21</td>\n",
       "      <td>5</td>\n",
       "      <td>12</td>\n",
       "      <td>2012</td>\n",
       "      <td>1</td>\n",
       "    </tr>\n",
       "    <tr>\n",
       "      <th>4</th>\n",
       "      <td>2012-12-01 21:12:12.0000003</td>\n",
       "      <td>5.387301</td>\n",
       "      <td>21</td>\n",
       "      <td>5</td>\n",
       "      <td>12</td>\n",
       "      <td>2012</td>\n",
       "      <td>1</td>\n",
       "    </tr>\n",
       "  </tbody>\n",
       "</table>\n",
       "</div>"
      ],
      "text/plain": [
       "                           key  distance  hour  ...  month  year  passenger_count\n",
       "0  2015-01-27 13:08:24.0000002  2.323260    13  ...      1  2015                1\n",
       "1  2015-01-27 13:08:24.0000003  2.425353    13  ...      1  2015                1\n",
       "2  2011-10-08 11:53:44.0000002  0.618628    11  ...     10  2011                1\n",
       "3  2012-12-01 21:12:12.0000002  1.961033    21  ...     12  2012                1\n",
       "4  2012-12-01 21:12:12.0000003  5.387301    21  ...     12  2012                1\n",
       "\n",
       "[5 rows x 7 columns]"
      ]
     },
     "execution_count": 27,
     "metadata": {
      "tags": []
     },
     "output_type": "execute_result"
    }
   ],
   "source": [
    "df_test = pd.read_csv('test.csv')\n",
    "\n",
    "df_test['pickup_datetime'] = pd.to_datetime(df_test['pickup_datetime'])\n",
    "df_test['hour'] = df_test['pickup_datetime'].apply(lambda date: date.hour)\n",
    "df_test['day_of_week'] = df_test['pickup_datetime'].apply(lambda date: date.dayofweek)\n",
    "df_test['month'] = df_test['pickup_datetime'].apply(lambda date: date.month)\n",
    "df_test['year'] = df_test['pickup_datetime'].apply(lambda date: date.year)\n",
    "df_test['distance'] = haversine(df_test, coordinates)\n",
    "df_test = df_test[['key', 'distance', 'hour', 'day_of_week', 'month', 'year',\n",
    "    'passenger_count']]\n",
    "df_test_pu = df_test.copy()\n",
    "\n",
    "df_test.head()"
   ]
  },
  {
   "cell_type": "markdown",
   "metadata": {
    "id": "SCI-uy575P3n"
   },
   "source": [
    "## Model 1 (Trained on Distance, Time Features, and Passenger Count)\n",
    "\n",
    "We then generate predictions using our first model (trained on the distance, time, and passenger count features)."
   ]
  },
  {
   "cell_type": "code",
   "execution_count": null,
   "metadata": {
    "id": "UUNhi4ZF3cVb"
   },
   "outputs": [],
   "source": [
    "X_final = preprocess.transform(df_test.drop(['key'], axis=1)[X.columns])\n",
    "y_final = rf_best.predict(X_final)\n",
    "df_test['fare_amount'] = y_final\n",
    "df_test = df_test[['key', 'fare_amount']]"
   ]
  },
  {
   "cell_type": "markdown",
   "metadata": {
    "id": "PZ31gXif5RrF"
   },
   "source": [
    "## Model 2 (Trained on Time Features and Passenger Count only)\n",
    "\n",
    "Next, we generate predictions using our second model (trained on the time features and passenger count only)."
   ]
  },
  {
   "cell_type": "code",
   "execution_count": null,
   "metadata": {
    "id": "pS6FZv9rKSeU"
   },
   "outputs": [],
   "source": [
    "X_final_pu = preprocess_pu.transform(df_test_pu.drop(['key', 'distance'], axis=1)[X_pu.columns])\n",
    "y_final_pu = rf_pu_best.predict(X_final_pu)\n",
    "df_test_pu['fare_amount'] = y_final_pu\n",
    "df_test_pu = df_test_pu[['key', 'fare_amount']]"
   ]
  },
  {
   "cell_type": "markdown",
   "metadata": {
    "id": "ZWunY9io5TIb"
   },
   "source": [
    "## Save Predictions\n",
    "\n",
    "Lastly, we generate a csv of our predictions and submit them to the Kaggle competition to determine how well our models perform on unseen data."
   ]
  },
  {
   "cell_type": "code",
   "execution_count": null,
   "metadata": {
    "id": "AjwIiM0DKcih"
   },
   "outputs": [],
   "source": [
    "df_test.to_csv('ml_full.csv', header=True, index=False)\n",
    "df_test_pu.to_csv('ml_pu.csv', header=True, index=False)"
   ]
  },
  {
   "cell_type": "markdown",
   "metadata": {
    "id": "NlWrIT12DyzN"
   },
   "source": [
    "## Kaggle Results\n",
    "\n",
    "- Score (model 1): 3.96615\n",
    "- Score (model 2): 9.28971\n",
    "\n",
    "The results reinforce our conclusion that time features and passenger count alone are not sufficient enough in predicting the fare amount. Moreover, the distance traveled greatly improves model performance. Therefore, it would be better to deploy our first model (model 1) rather than our second model (model 2)."
   ]
  },
  {
   "cell_type": "markdown",
   "metadata": {},
   "source": [
    "# Case Summary"
   ]
  },
  {
   "cell_type": "markdown",
   "metadata": {},
   "source": [
    "## Context\n",
    "\n",
    "New York City is known for the number of tourists that go in and out of the city every year. Because of the large amount of people in the city, there is a high demand for transportation services to get around the city. Some people would prefer to take the subway or a bus to save money, while others would prefer to take a taxi for more comfort. In this machine learning case study, we look at how the fare amount of taking a taxi can be accurately predicted using several extracted features. This could potentially help commuters determine the optimal time to save money when choosing to take a taxi than to take the bus or subway. This could also potentially help taxi drivers determine the peak hours to maximize profits and to determine which of two trips could possibly yield more profits before the trip has even been made."
   ]
  },
  {
   "cell_type": "markdown",
   "metadata": {},
   "source": [
    "## Model Overview and Design\n",
    "\n",
    "We first perform feature engineering to obtain the necessary features we want to train our models on, namely:\n",
    "- `distance`: This is obtained by using the Haversine formula that determines the distance between two points on a sphere. The assumption here is that we treat Earth as a perfect sphere, wherein its radius is the average radius of the Earth (approximately 6371 km). This is a continuous variable.\n",
    "- `hour`: This refers to the hour of the day the taxi ride took place. This, including all other extracted time features, is obtained by first converting the `pickup_datetime` feature to a `datetime` object type using `pandas.to_datetime`. To get the hour of the day feature, we use `df['pickup_datetime'].apply(lambda date: date.hour)`. This is a categorical variable.\n",
    "- `day_of_week`: This refers to the day of the week the taxi ride took place. To get the day of the week feature, we use `df['pickup_datetime'].apply(lambda date: date.dayofweek)`. This is a categorical variable.\n",
    "- `month`: This refers to the month of year the taxi ride took place. To get the month of the year feature, we use `df['pickup_datetime'].apply(lambda date: date.month)`. This is a categorical variable.\n",
    "- `year`: This refers to the year the taxi ride took place. To get the year feature, we use `df['pickup_datetime'].apply(lambda date: date.year)`. This is a categorical variable.\n",
    "- `passenger`: This refers to the number of passengers in the taxi. This is a categorical variable.\n",
    "\n",
    "After extracting the necessary features, we perform label-encoding on the categorical variables. Label-encoding is done to convert non-numeric caterogical data into numeric ones. In our case, our categorical variables are already numeric. However, it is still good practice to perform label-encoding on the categorical features. Most people would use one-hot encoding, but this increases the number features, which is not good for any tree-based algorithm. An alternative for this would be to use scikit-learn's `LabelEncoder` but this is sometimes slow, especially when dealing with large datasets. In this case study, we use a modified label-encoder using the pandas library. After performing the necessary preprocessing steps, we then generate two models:\n",
    "- model 1: trained on all features\n",
    "- model 2: trained on the time and passenger count features only\n",
    "\n",
    "The idea behind training two models is that we want one model that is trained on all the extracted features, and a separate model that is trained only on the time and passenger count features. The second model is especially useful when someone wants to predict the fare amount before the trip has even been made. This is especially useful among commuters when they want to know at what time can they save the most money when taking a taxi; and it is equally useful among drivers to determine the peak hours to maximize profits.\n",
    "\n",
    "After the initial training, we tune the hyperparameters of our models using scikit-learn's `GridSearchCV`. This helps us determine the best set of hyperparameters to use, and it uses cross-validation internally to help boost training."
   ]
  },
  {
   "cell_type": "markdown",
   "metadata": {},
   "source": [
    "## Assessment\n",
    "\n",
    "For out metric used to evaluate model performance, we use the Root Mean Squared Error (RMSE) because we are dealing with continuous data. The advantage of RMSE over the Mean Absolute Error (MAE) is that the MAE is a linear score which means that individual differences are weighted equally in the average, whereas the RMSE is a quadratic scoring rule which measures the average magnitude of the error. Thus, the RMSE gives a relatively high weight to large errors. After the initial training of our models (before using `GridSearchCV`), we see that model 1 (validation RMSE: \\\\$3.824) outperforms model 2 (validation RMSE: \\\\$8.980). This tells us that the the fare amount cannot be accurately predicted before the trip has been made. Comparing the validation score of model 1 (\\\\$3.824) to its training score (\\\\$1.504), it is possible that we may be overfitting on the training set, which is undesirable when we want to deploy our model and test it on unseen data, especially when its distribution is different from that learned in the training set.\n",
    "\n",
    "After applying `GridSearchCV`, the validation score of model 1 decreased to \\\\$3.696, and that of model 2 decreased to \\\\$8.734. The important features determined by model 1 tells us that the `distance` feature encodes the most information for determining the fare amount. Among the time features, the `year` feature is shown to encode the most information, followed by the `hour` feature. The other features (`day_of_week`, `month`, and `passenger_count`) has been shown to be given less importance. This tells us that regardless of the distance traveled, one could predict the fare amount to some degree given the hour of the day and year only. However, it should also be noted that attributes with low feature importance does not mean it is uninformative, but rather it was not picked by the model because other features likely encode the same information.\n",
    "\n",
    "The two hyperparameter-tuned models were also tested on the test set of the New York City Taxi Fare Prediction (availabel [here](https://www.kaggle.com/c/new-york-city-taxi-fare-prediction/data?select=test.csv)). Model 1 obtained a score of 3.96615, whereas model 2 obtained a score of 9.28971. This reinforces our conclusion that knowing the time and number of passengers only is not enough to accurately predict the fare amount; the distance traveled is the best source for accurately predicting the fare amount."
   ]
  },
  {
   "cell_type": "markdown",
   "metadata": {},
   "source": [
    "## Application\n",
    "\n",
    "As mentioned earlier, the insights drawn from this machine learning case study could help both commuters and taxi drivers. It could help commuters to determine the best time to take a taxi to save money, rather than to take the bus or subway which could be uncomfortable at times. It could also help taxi drivers determine the best time to focus their resources to maximize profits. Another possible benefit of these models is that it could help new competitors in the land transportation industry (e.g., new taxi companies) determine the best aspects to focus on when first starting out. It is possible that new startups fail due to focusing on the wrong aspects. By using the insights from this case study and the predictions of the proposed models, it could prove to be benetifial to both the taxi companies and its users."
   ]
  },
  {
   "cell_type": "markdown",
   "metadata": {
    "id": "L2fCgPEmJrVn"
   },
   "source": [
    "## Sustainability\n",
    "\n",
    "In this case study, only 1500000 of the 26173536 training samples were used, which comprises only 5.73\\% of the entire dataset. The choice on the number of training samples to be used was severely limited due to maximum RAM available, even when using Google Colaboratory. That being said, this issue could be overcome by using other Python libraries and techniques designed specifically to deal with big data, an example of which is [PySpark](https://spark.apache.org/docs/latest/api/python/index.html).\n",
    "\n",
    "Assuming that loading the entire dataset has been accomplished, another issue that was present during this case study was the choice of the machine learning model to train. Random Forests (RF) were used mainly because it has been proven time and time again to be one of the best machine learning models out there; it has also been one of the most popular choice of machine learning models in Kaggle competitions. One great benefit of using scikit-learn's `RandomForestRegressor` is that it enables us to further train on new data, as long as they contain the same necessary features extracted in this case study. This allows the company to continuously collect data and train our model on the new data. However, the incremental training of the `RandomForestRegressor` does not fit entirely new models, but adds successive trees. In the long run, this could prove to be a problem for the company, but it is still unlikely. An alternative choice would be to use neural networks. With the use of GPUs and CUDA support, neural networks could learn more complex mappings between training and target variables, thus improving both model runtime and performance.\n",
    "\n",
    "\n",
    "Recommendations:\n",
    "- Use more data during training\n",
    "- Perform a more broad search during hyperparameter tuning\n",
    "- Extract more features during feature engineering (an example of this would be to group pickup and dropoff longitudes and latitudes to sections of New York City, but this would require knowledge of the city of New York and advanced feature engineering techniques) "
   ]
  }
 ],
 "metadata": {
  "colab": {
   "collapsed_sections": [],
   "name": "machine_learning.ipynb",
   "provenance": []
  },
  "kernelspec": {
   "display_name": "Python 3",
   "language": "python",
   "name": "python3"
  },
  "language_info": {
   "codemirror_mode": {
    "name": "ipython",
    "version": 3
   },
   "file_extension": ".py",
   "mimetype": "text/x-python",
   "name": "python",
   "nbconvert_exporter": "python",
   "pygments_lexer": "ipython3",
   "version": "3.8.10"
  }
 },
 "nbformat": 4,
 "nbformat_minor": 1
}
