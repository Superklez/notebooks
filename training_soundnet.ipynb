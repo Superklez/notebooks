{
  "nbformat": 4,
  "nbformat_minor": 0,
  "metadata": {
    "colab": {
      "name": "training_soundnet.ipynb",
      "provenance": [],
      "collapsed_sections": []
    },
    "kernelspec": {
      "name": "python3",
      "display_name": "Python 3"
    },
    "language_info": {
      "name": "python"
    },
    "accelerator": "GPU"
  },
  "cells": [
    {
      "cell_type": "code",
      "metadata": {
        "id": "oIcaEWGdAD6d"
      },
      "source": [
        "import os\n",
        "import matplotlib.pyplot as plt\n",
        "import IPython.display as ipd\n",
        "\n",
        "import torch\n",
        "from torch import nn, optim\n",
        "\n",
        "from model import Model\n",
        "from train import train_model\n",
        "from data import get_dataloaders\n",
        "from utils import num_params, label_to_index"
      ],
      "execution_count": 2,
      "outputs": []
    },
    {
      "cell_type": "code",
      "metadata": {
        "id": "3AYSUUl-TMl7"
      },
      "source": [
        "batch_size = 512\n",
        "validation = True\n",
        "device = 'cuda' if torch.cuda.is_available() else 'cpu'\n",
        "\n",
        "dataloaders = get_dataloaders(batch_size, validation, device)\n",
        "dataloaders"
      ],
      "execution_count": null,
      "outputs": []
    },
    {
      "cell_type": "code",
      "metadata": {
        "id": "H_x6ZrIQ8tpQ"
      },
      "source": [
        "# torch.multiprocessing.set_start_method('spawn')\n",
        "\n",
        "for tensors, targets in dataloaders['train']:\n",
        "    tensor = tensors[0]\n",
        "    target = targets[0]\n",
        "    break"
      ],
      "execution_count": 4,
      "outputs": []
    },
    {
      "cell_type": "code",
      "metadata": {
        "id": "wy9IWE-dTJZH"
      },
      "source": [
        "plt.plot(tensor.t().numpy())\n",
        "plt.grid()\n",
        "plt.show()"
      ],
      "execution_count": null,
      "outputs": []
    },
    {
      "cell_type": "code",
      "metadata": {
        "id": "PQ7_JaX5TIcR"
      },
      "source": [
        "ipd.Audio(tensor, rate=16000)"
      ],
      "execution_count": null,
      "outputs": []
    },
    {
      "cell_type": "code",
      "metadata": {
        "id": "-cAIi0MITHJe"
      },
      "source": [
        "cfg = [32, 'M', 64, 'M', 128, 'M', 256, 'M', 512]\n",
        "model = Model(1, 35, cfg, 3)\n",
        "print('Trainable parameters: {}'.format(num_params(model)))"
      ],
      "execution_count": null,
      "outputs": []
    },
    {
      "cell_type": "code",
      "metadata": {
        "id": "iv_37ZzAs6Di"
      },
      "source": [
        "criterion = nn.NLLLoss()\n",
        "optimizer = optim.Adam(model.parameters(), lr=0.01, weight_decay=0.0001)\n",
        "scheduler = optim.lr_scheduler.ReduceLROnPlateau(optimizer, factor=0.5,\n",
        "    patience=5)"
      ],
      "execution_count": 8,
      "outputs": []
    },
    {
      "cell_type": "code",
      "metadata": {
        "id": "QY5LlQpxS-f_"
      },
      "source": [
        "model, (losses, accuracies) = train_model(model, criterion, optimizer, scheduler,\n",
        "    dataloaders, epochs=50, scheduler_basis='val', save_checkpoint=True,\n",
        "    save_checkpoint_filepath='checkpoint.pth.tar', load_checkpoint=False,\n",
        "    load_checkpoint_filepath='checkpoint.pth.tar', device=device)"
      ],
      "execution_count": null,
      "outputs": []
    },
    {
      "cell_type": "code",
      "metadata": {
        "id": "c4ElM-7bS_4k"
      },
      "source": [
        "plt.plot(range(1, 51), losses['train'], label='training loss')\n",
        "plt.plot(range(1, 51), losses['val'], label='validation loss')\n",
        "plt.grid()\n",
        "plt.legend(loc='best')\n",
        "plt.xlim([1, 50])\n",
        "plt.ylim([-1, 0])\n",
        "plt.show()"
      ],
      "execution_count": null,
      "outputs": []
    },
    {
      "cell_type": "code",
      "metadata": {
        "id": "DQ5uevvDTAwY"
      },
      "source": [
        "plt.plot(range(1, 51), accuracies['train'], label='training accuracy')\n",
        "plt.plot(range(1, 51), accuracies['val'], label='validation accuracy')\n",
        "plt.grid()\n",
        "plt.legend(loc='best')\n",
        "plt.xlim([1, 50])\n",
        "plt.ylim([0, 1])\n",
        "plt.show()"
      ],
      "execution_count": null,
      "outputs": []
    }
  ]
}