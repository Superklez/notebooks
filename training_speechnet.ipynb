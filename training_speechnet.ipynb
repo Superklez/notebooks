{
  "nbformat": 4,
  "nbformat_minor": 0,
  "metadata": {
    "accelerator": "GPU",
    "colab": {
      "name": "training_speechnet.ipynb",
      "provenance": [],
      "collapsed_sections": []
    },
    "kernelspec": {
      "display_name": "Python 3",
      "name": "python3"
    },
    "language_info": {
      "name": "python"
    }
  },
  "cells": [
    {
      "cell_type": "code",
      "metadata": {
        "id": "FPEr6knNWzDv"
      },
      "source": [
        "import math\n",
        "import matplotlib.pyplot as plt\n",
        "import torch\n",
        "import torch.nn as nn\n",
        "from torch import Tensor\n",
        "\n",
        "# from google.colab import drive\n",
        "# drive.mount('/content/drive')\n",
        "# %cd /content/drive/MyDrive/DEEP_LEARNING/KSPnet\n",
        "\n",
        "from model import Model\n",
        "from train import train_model\n",
        "from data import get_dataloaders\n",
        "from criteria import TimeFrequencyLoss\n",
        "from preprocess import frame, overlap_and_add\n",
        "from utils import num_params, plot_waveform, play_audio"
      ],
      "execution_count": null,
      "outputs": []
    },
    {
      "cell_type": "code",
      "metadata": {
        "id": "2GWufXHPUe8Q"
      },
      "source": [
        "device = 'cuda' if torch.cuda.is_available() else 'cpu'\n",
        "print('device: {}'.format(device))"
      ],
      "execution_count": null,
      "outputs": []
    },
    {
      "cell_type": "code",
      "metadata": {
        "id": "fQ_JeniDwyoe"
      },
      "source": [
        "dataloaders = get_dataloaders('data/train.csv', 'data', batch_size=1,\n",
        "    max_audio_length=3, validation_split=0.1, device=device)\n",
        "\n",
        "for inputs, labels, lengths in dataloaders['train']:\n",
        "    test_noisy = inputs[0]\n",
        "    test_clean = labels[0]\n",
        "    break"
      ],
      "execution_count": null,
      "outputs": []
    },
    {
      "cell_type": "code",
      "metadata": {
        "id": "PJhh6jVHW01a"
      },
      "source": [
        "plot_waveform(test_noisy, 16000)\n",
        "play_audio(test_noisy, 16000)"
      ],
      "execution_count": null,
      "outputs": []
    },
    {
      "cell_type": "code",
      "metadata": {
        "id": "9Lnfq1qoW2VW"
      },
      "source": [
        "plot_waveform(test_clean, 16000)\n",
        "play_audio(test_clean, 16000)"
      ],
      "execution_count": null,
      "outputs": []
    },
    {
      "cell_type": "code",
      "metadata": {
        "id": "OuPlMVDBW3ka"
      },
      "source": [
        "model = Model(512, d_model=64, in_channels=1, out_channels=1, n_convs=1,\n",
        "    kernel_size=(1, 3), stride=(1, 2), depth=5, k=2, n_intra=4, n_inter=4,\n",
        "    n_heads=4, d_hid=1024, dropout=0.1, max_seq_len=1000).to(device)\n",
        "print(num_params(model))\n",
        "\n",
        "criterion = TimeFrequencyLoss(alpha=0.4)\n",
        "optimizer = torch.optim.Adam(model.parameters(), lr=0.0001)\n",
        "scheduler = torch.optim.lr_scheduler.ReduceLROnPlateau(optimizer,\n",
        "    factor=0.5, patience=5)"
      ],
      "execution_count": null,
      "outputs": []
    },
    {
      "cell_type": "code",
      "metadata": {
        "id": "FuyhEYr4W7fZ"
      },
      "source": [
        "model, losses = train_model(model, criterion, optimizer, scheduler, dataloaders,\n",
        "    epochs=5, frame_length=512, frame_shift=256, save_checkpoint=True,\n",
        "    load_checkpoint=True, save_checkpoint_filepath='checkpoint.pth.tar',\n",
        "    load_checkpoint_filepath='checkpoint.pth.tar', device=device)"
      ],
      "execution_count": null,
      "outputs": []
    }
  ]
}